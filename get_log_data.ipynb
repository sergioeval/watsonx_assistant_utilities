{
 "cells": [
  {
   "cell_type": "markdown",
   "metadata": {},
   "source": [
    "# API documentation \n",
    "https://cloud.ibm.com/apidocs/assistant-v2?code=python#listassistants\n"
   ]
  },
  {
   "cell_type": "code",
   "execution_count": 9,
   "metadata": {},
   "outputs": [
    {
     "data": {
      "text/plain": [
       "True"
      ]
     },
     "execution_count": 9,
     "metadata": {},
     "output_type": "execute_result"
    }
   ],
   "source": [
    "import pprint\n",
    "from dotenv import load_dotenv\n",
    "import os\n",
    "import json\n",
    "from ibm_watson import AssistantV2\n",
    "from ibm_cloud_sdk_core.authenticators import IAMAuthenticator\n",
    "import pandas as pd\n",
    "import pickle\n",
    "\n",
    "load_dotenv()"
   ]
  },
  {
   "cell_type": "markdown",
   "metadata": {},
   "source": [
    "# API assistant setup"
   ]
  },
  {
   "cell_type": "code",
   "execution_count": 10,
   "metadata": {},
   "outputs": [],
   "source": [
    "API_KEY = os.getenv(key='API_KEY')\n",
    "URL = 'https://api.us-east.assistant.watson.cloud.ibm.com/'\n",
    "ASSISTANT_NAME = 'Ask_Proc_Main'"
   ]
  },
  {
   "cell_type": "code",
   "execution_count": 11,
   "metadata": {},
   "outputs": [],
   "source": [
    "\n",
    "authenticator = IAMAuthenticator(API_KEY)\n",
    "assistant = AssistantV2(\n",
    "    version='2021-06-14',\n",
    "    authenticator = authenticator\n",
    ")\n",
    "\n",
    "assistant.set_service_url(URL)"
   ]
  },
  {
   "cell_type": "markdown",
   "metadata": {},
   "source": [
    "# Get List of assistants available\n",
    "\n",
    "This will give you all the assistants that are available in that instance in IBM cloud. "
   ]
  },
  {
   "cell_type": "code",
   "execution_count": 12,
   "metadata": {},
   "outputs": [],
   "source": [
    "assistants_list = assistant.list_assistants()"
   ]
  },
  {
   "cell_type": "code",
   "execution_count": 13,
   "metadata": {},
   "outputs": [
    {
     "name": "stdout",
     "output_type": "stream",
     "text": [
      "{'assistant_environments': [{'environment': 'draft',\n",
      "                             'environment_id': '572332fa-74b2-4e42-9c4d-93c891106824',\n",
      "                             'name': 'draft'},\n",
      "                            {'environment': 'live',\n",
      "                             'environment_id': '646fce51-a4ec-4bc8-8928-ef4eb222a59a',\n",
      "                             'name': 'live'}],\n",
      " 'assistant_id': '9dcbdb4b-f743-4a96-b20b-51f80f9ec4d7',\n",
      " 'assistant_skills': [{'skill_id': '79fa487e-fc14-4f85-89b9-8f00c88f0ff7',\n",
      "                       'type': 'dialog'},\n",
      "                      {'skill_id': '5cbe6f41-8364-4f69-9e0a-1e7891cdde76',\n",
      "                       'type': 'action'}],\n",
      " 'description': 'Main Assistant for Ask Procurement',\n",
      " 'language': 'en',\n",
      " 'multi_lingual': {'enabled': False},\n",
      " 'name': 'Ask_Proc_Main'}\n",
      "\n",
      "\n",
      "Your assistant id is: 9dcbdb4b-f743-4a96-b20b-51f80f9ec4d7\n"
     ]
    }
   ],
   "source": [
    "for bot in assistants_list.get_result().get('assistants'):\n",
    "    if bot.get('name') == ASSISTANT_NAME:\n",
    "        ASSISTANT_ID = bot.get('assistant_id')\n",
    "        pprint.pprint(bot)\n",
    "\n",
    "print(f'\\n\\nYour assistant id is: {ASSISTANT_ID}')"
   ]
  },
  {
   "cell_type": "code",
   "execution_count": 14,
   "metadata": {},
   "outputs": [],
   "source": [
    "# here you can define the assistant environment to get the logs from \n",
    "ASSISTANT_ENV_ID = '572332fa-74b2-4e42-9c4d-93c891106824'"
   ]
  },
  {
   "cell_type": "markdown",
   "metadata": {},
   "source": [
    "# Get log data "
   ]
  },
  {
   "cell_type": "code",
   "execution_count": 15,
   "metadata": {},
   "outputs": [
    {
     "name": "stdout",
     "output_type": "stream",
     "text": [
      "working on page 1\n",
      "working on page 2\n",
      "working on page 3\n",
      "working on page 4\n",
      "working on page 5\n",
      "working on page 6\n",
      "working on page 7\n",
      "working on page 8\n",
      "working on page 9\n",
      "working on page 10\n",
      "working on page 11\n",
      "working on page 12\n",
      "working on page 13\n",
      "working on page 14\n",
      "working on page 15\n",
      "working on page 16\n",
      "working on page 17\n",
      "working on page 18\n",
      "working on page 19\n",
      "working on page 20\n",
      "working on page 21\n",
      "working on page 22\n",
      "working on page 23\n",
      "working on page 24\n",
      "working on page 25\n",
      "working on page 26\n",
      "working on page 27\n",
      "working on page 28\n",
      "working on page 29\n",
      "working on page 30\n",
      "working on page 31\n",
      "working on page 32\n",
      "working on page 33\n",
      "working on page 34\n",
      "working on page 35\n",
      "working on page 36\n",
      "working on page 37\n",
      "working on page 38\n",
      "working on page 39\n",
      "working on page 40\n",
      "working on page 41\n",
      "working on page 42\n",
      "working on page 43\n",
      "working on page 44\n",
      "working on page 45\n",
      "working on page 46\n",
      "working on page 47\n",
      "working on page 48\n",
      "working on page 49\n",
      "working on page 50\n",
      "working on page 51\n",
      "working on page 52\n",
      "working on page 53\n",
      "working on page 54\n",
      "working on page 55\n",
      "working on page 56\n",
      "working on page 57\n",
      "working on page 58\n",
      "working on page 59\n",
      "working on page 60\n",
      "working on page 61\n",
      "working on page 62\n",
      "working on page 63\n",
      "working on page 64\n",
      "working on page 65\n",
      "working on page 66\n",
      "working on page 67\n",
      "working on page 68\n",
      "working on page 69\n",
      "working on page 70\n",
      "working on page 71\n",
      "working on page 72\n",
      "working on page 73\n",
      "working on page 74\n",
      "working on page 75\n",
      "working on page 76\n",
      "working on page 77\n",
      "working on page 78\n",
      "working on page 79\n",
      "working on page 80\n",
      "working on page 81\n",
      "working on page 82\n",
      "working on page 83\n",
      "working on page 84\n",
      "working on page 85\n",
      "working on page 86\n",
      "working on page 87\n",
      "working on page 88\n",
      "working on page 89\n",
      "working on page 90\n",
      "working on page 91\n",
      "working on page 92\n",
      "working on page 93\n",
      "working on page 94\n",
      "working on page 95\n"
     ]
    }
   ],
   "source": [
    "# to get all the logs \n",
    "cursor = None\n",
    "page = 1\n",
    "\n",
    "all_logs = []\n",
    "\n",
    "while True:\n",
    "    print(f'working on page {page}')\n",
    "    page += 1\n",
    "    response=assistant.list_logs(\n",
    "        assistant_id=ASSISTANT_ENV_ID,\n",
    "        cursor=cursor,\n",
    "    ).get_result()\n",
    "\n",
    "    all_logs.extend(response['logs'])\n",
    "\n",
    "    cursor=response.get('pagination').get('next_cursor')\n",
    "    if not cursor:\n",
    "        break"
   ]
  },
  {
   "cell_type": "code",
   "execution_count": 7,
   "metadata": {},
   "outputs": [],
   "source": [
    "#TEST\n",
    "response=assistant.list_logs(\n",
    "        assistant_id=ASSISTANT_ENV_ID,\n",
    "    ).get_result()"
   ]
  },
  {
   "cell_type": "code",
   "execution_count": 16,
   "metadata": {},
   "outputs": [
    {
     "data": {
      "text/plain": [
       "9457"
      ]
     },
     "execution_count": 16,
     "metadata": {},
     "output_type": "execute_result"
    }
   ],
   "source": [
    "len(all_logs)"
   ]
  },
  {
   "cell_type": "markdown",
   "metadata": {},
   "source": [
    "#to sabe the logs in picke object \n",
    "with open('all_logs.pkl', 'wb') as file: \n",
    "    pickle.dump(all_logs, file=file)"
   ]
  },
  {
   "cell_type": "markdown",
   "metadata": {},
   "source": [
    "# From here to read all the logs from pkl file "
   ]
  },
  {
   "cell_type": "code",
   "execution_count": 53,
   "metadata": {},
   "outputs": [],
   "source": [
    "#read pickle back \n",
    "with open('all_logs.pkl', 'rb') as file:\n",
    "    # Load the pickle object using pickle.load\n",
    "    all_logs = pickle.load(file)"
   ]
  },
  {
   "cell_type": "code",
   "execution_count": 19,
   "metadata": {},
   "outputs": [
    {
     "data": {
      "text/plain": [
       "9457"
      ]
     },
     "execution_count": 19,
     "metadata": {},
     "output_type": "execute_result"
    }
   ],
   "source": [
    "len(all_logs)"
   ]
  },
  {
   "cell_type": "code",
   "execution_count": 54,
   "metadata": {},
   "outputs": [
    {
     "data": {
      "text/plain": [
       "list"
      ]
     },
     "execution_count": 54,
     "metadata": {},
     "output_type": "execute_result"
    }
   ],
   "source": [
    "type(all_logs)"
   ]
  },
  {
   "cell_type": "code",
   "execution_count": 55,
   "metadata": {},
   "outputs": [
    {
     "data": {
      "text/plain": [
       "{'log_id': '6521d40b-2e63-4b68-919c-4537cf7d9c4d',\n",
       " 'request': {'input': {'options': {'alternate_responses': True,\n",
       "    'debug': True,\n",
       "    'alternate_intents': True,\n",
       "    'disambiguation': {'alternate_responses': False},\n",
       "    'async_callout': True,\n",
       "    'suggestion_only': False,\n",
       "    'return_context': True,\n",
       "    'export': True,\n",
       "    'skip_user_input': True},\n",
       "   'message_type': 'text',\n",
       "   'source': {'id': 'anonymous_IBMuid-2bb715f0-9a44-4abc-a324-9d9e49377a77',\n",
       "    'type': 'user'},\n",
       "   'text': ''},\n",
       "  'context': {'skills': {'main skill': {'system': {}},\n",
       "    'actions skill': {'system': {}, 'user_defined': {}}},\n",
       "   'metadata': {'user_id': 'anonymous_IBMuid-2bb715f0-9a44-4abc-a324-9d9e49377a77'},\n",
       "   'system': {'dialog_request_counter': 1,\n",
       "    'dialog_turn_counter': 1,\n",
       "    'assistant_id': '572332fa-74b2-4e42-9c4d-93c891106824'},\n",
       "   'conversation_id': '7578e4f0-6a5d-4597-9018-1e674f911e38',\n",
       "   'global': {'system': {'user_id': 'anonymous_IBMuid-2bb715f0-9a44-4abc-a324-9d9e49377a77',\n",
       "     'timezone': 'America/Mexico_City'}},\n",
       "   'integrations': {'chat': {'browser_info': {'page_url': 'https://us-east.assistant.watson.cloud.ibm.com/crn%3Av1%3Abluemix%3Apublic%3Aconversation%3Aus-east%3Aa%2F29d47f055c584de3a10e0ff72fc99587%3Abdd9c15a-0c3e-44e1-b4a6-d06e9a6a7030%3A%3A/assistants/9dcbdb4b-f743-4a96-b20b-51f80f9ec4d7/actions/actions/custom',\n",
       "      'browser_name': 'chrome',\n",
       "      'ip_address_list': ['129.41.86.1',\n",
       "       ' 23.221.23.91',\n",
       "       '10.188.250.223',\n",
       "       '172.30.30.0'],\n",
       "      'client_ip_address': '129.41.86.1',\n",
       "      'language': 'en-US',\n",
       "      'browser_OS': 'Mac OS',\n",
       "      'browser_version': '120.0.0',\n",
       "      'screen_resolution': 'width: 1512, height: 982',\n",
       "      'user_agent': 'Mozilla/5.0 (Macintosh; Intel Mac OS X 10_15_7) AppleWebKit/537.36 (KHTML, like Gecko) Chrome/120.0.0.0 Safari/537.36'}},\n",
       "    'channel': {'name': 'Web chat'}}}},\n",
       " 'response_timestamp': '2024-01-16T13:57:34.832Z',\n",
       " 'assistant_id': '572332fa-74b2-4e42-9c4d-93c891106824',\n",
       " 'request_timestamp': '2024-01-16T13:57:34.784Z',\n",
       " 'response': {'output': {'intents': [],\n",
       "   'debug': {'auto_learn': {'reports': {'lists': {'auto_learn_mode': 'off'}}},\n",
       "    'log_messages': [{'code': 'generic',\n",
       "      'level': 'warning',\n",
       "      'message': 'Value is incorrectly formatted for data type [boolean].'},\n",
       "     {'code': 'generic',\n",
       "      'level': 'warning',\n",
       "      'message': 'Value is incorrectly formatted for data type [date].'}],\n",
       "    'output_generic_mapping': [{'source': {'action': 'welcome',\n",
       "       'step': 'step_001',\n",
       "       'type': 'step'}},\n",
       "     {'source': {'action': 'action_9369',\n",
       "       'step': 'step_779',\n",
       "       'type': 'step'}}],\n",
       "    'turn_events': [{'reason': 'intent',\n",
       "      'condition_type': 'welcome',\n",
       "      'action_start_time': '2024-01-16T13:57:34.822659170Z',\n",
       "      'source': {'action_title': 'Greet customer',\n",
       "       'action': 'welcome',\n",
       "       'type': 'action'},\n",
       "      'event': 'action_visited'},\n",
       "     {'first_step': True,\n",
       "      'action_start_time': '2024-01-16T13:57:34.822659170Z',\n",
       "      'source': {'action_title': 'Greet customer',\n",
       "       'action': 'welcome',\n",
       "       'step': 'step_001',\n",
       "       'type': 'step'},\n",
       "      'event': 'step_visited'},\n",
       "     {'action_start_time': '2024-01-16T13:57:34.822659170Z',\n",
       "      'source': {'action_title': 'Greet customer',\n",
       "       'action': 'welcome',\n",
       "       'step': 'step_938',\n",
       "       'type': 'step'},\n",
       "      'event': 'step_visited'},\n",
       "     {'reason': 'invoke_subaction',\n",
       "      'condition_type': 'user_defined',\n",
       "      'action_start_time': '2024-01-16T13:57:34.822902788Z',\n",
       "      'source': {'action_title': 'Ask me a question',\n",
       "       'action': 'action_9369',\n",
       "       'type': 'action'},\n",
       "      'event': 'action_visited'},\n",
       "     {'has_question': True,\n",
       "      'action_start_time': '2024-01-16T13:57:34.822902788Z',\n",
       "      'source': {'action_title': 'Ask me a question',\n",
       "       'action': 'action_9369',\n",
       "       'step': 'step_779',\n",
       "       'type': 'step'},\n",
       "      'event': 'step_visited'}]},\n",
       "   'entities': [],\n",
       "   'log_messages': [{'code': 'generic',\n",
       "     'level': 'warning',\n",
       "     'message': 'Value is incorrectly formatted for data type [boolean].'},\n",
       "    {'code': 'generic',\n",
       "     'level': 'warning',\n",
       "     'message': 'Value is incorrectly formatted for data type [date].'}],\n",
       "   'text': ['Welcome! I am your AskProcurement Digital Assistant.\\n\\nPlease note, that I can only help with a few selected topics at the moment. I can provide insight into spend, revenue, buy pipeline, contract data and strategic partners.',\n",
       "    \"Here are some examples of questions you can ask:\\n\\n\\n  1. What is our **spend** with SAP for the past 3 years?\\n  2. Show last year's **revenue** from Microsoft.\\n  3. List active **contracts** with Cisco.\\n  4. Which **contracts** with Microsoft **expire** in 30 days?\\n  5. Provide a view of this year's active **sourcing events** with Juniper.\\n  6. Provide a view of last year's Won sell **sourcing events** with Microsoft.\\n  7. List our **strategic partners.**\"],\n",
       "   'generic': [{'repeat_on_reprompt': False,\n",
       "     'response_type': 'text',\n",
       "     'text': 'Welcome! I am your AskProcurement Digital Assistant.\\n\\nPlease note, that I can only help with a few selected topics at the moment. I can provide insight into spend, revenue, buy pipeline, contract data and strategic partners.'},\n",
       "    {'response_type': 'text',\n",
       "     'text': \"Here are some examples of questions you can ask:\\n\\n\\n  1. What is our **spend** with SAP for the past 3 years?\\n  2. Show last year's **revenue** from Microsoft.\\n  3. List active **contracts** with Cisco.\\n  4. Which **contracts** with Microsoft **expire** in 30 days?\\n  5. Provide a view of this year's active **sourcing events** with Juniper.\\n  6. Provide a view of last year's Won sell **sourcing events** with Microsoft.\\n  7. List our **strategic partners.**\"}]},\n",
       "  'user_id': 'anonymous_IBMuid-2bb715f0-9a44-4abc-a324-9d9e49377a77',\n",
       "  'context': {'skills': {'main skill': {'system': {}},\n",
       "    'actions skill': {'action_variables': {},\n",
       "     'system': {'state': 'eyJzZXNzaW9uX3N0YXJ0X3RpbWUiOiIyMDI0LTAxLTE2VDEzOjU3OjM0Ljc1M1oiLCJzZXNzaW9uX2lkIjoiNzU3OGU0ZjAtNmE1ZC00NTk3LTkwMTgtMWU2NzRmOTExZTM4Iiwic2tpbGxfcmVmZXJlbmNlIjoiYWN0aW9ucyBza2lsbCIsImFzc2lzdGFudF9pZCI6IjU3MjMzMmZhLTc0YjItNGU0Mi05YzRkLTkzYzg5MTEwNjgyNCIsImRpZ3Jlc3NlZF9mcm9tIjpudWxsLCJzaGFkb3dfdmFyaWFibGVzIjp7fSwiaGl0c19jb3VudCI6MCwibm9fYWN0aW9uX21hdGNoZXNfY291bnQiOjAsIl9ub2RlX291dHB1dF9tYXAiOnsid2VsY29tZSBzdGVwXzAwMSI6eyIwIjpbMF19LCJhY3Rpb25fOTM2OSBzdGVwXzc3OSI6eyIwIjpbMF19fSwiYWN0aW9uX3N0YWNrIjpbeyJhY3Rpb24iOiJ3ZWxjb21lIiwiYWN0aW9uX3N0YXJ0X3RpbWUiOiIyMDI0LTAxLTE2VDEzOjU3OjM0LjgyMjY1OTE3MFoiLCJjb250ZXh0X2xvY2FsIjp7InN0ZXBfMDAxIjp0cnVlLCJzdGVwXzkzOCI6dHJ1ZX0sImNvbnRleHRfc2hhZG93Ijp7fSwiZW5kX2FjdGlvbl9vbl9yZXN1bWUiOnRydWV9LHsiYWN0aW9uIjoiYWN0aW9uXzkzNjkiLCJhY3Rpb25fc3RhcnRfdGltZSI6IjIwMjQtMDEtMTZUMTM6NTc6MzQuODIyOTAyNzg4WiIsImN1cnJlbnRfc3RlcCI6InN0ZXBfNzc5IiwidHJpZXNfZWxhcHNlZCI6eyJzdGVwXzc3OSI6MX0sInN1YmFjdGlvbl9pbnZvY2F0aW9uIjp7InJlc3VsdF92YXJpYWJsZSI6InN0ZXBfOTM4X3Jlc3VsdF8xIiwiYWN0aW9uIjoiYWN0aW9uXzkzNjkifX1dfQ=='},\n",
       "     'skill_variables': {'This_Year': 2023,\n",
       "      'num_of_results': 3,\n",
       "      'no_active_contracts': False,\n",
       "      'watsonxai_model_id': 'google/flan-ul2',\n",
       "      'classifyQuestionPrompt': 'Please read the input sentence  and identify 3 key pieces of information COMPANY_NAME, PERIOD and QUESTION_TYPE  based on the instructions provided below:   INSTRUCTIONS: 1.- You must provide an OUTPUT formated like this:      {         \"COMPANY_NAME\": \"<company name>\",         \"PERIOD\": \"<perior>\",         \"QUESTION_TYPE\": \"<question type>\"     } 2. Provide me the COMPANY_NAME mentioned in the INPUT. If you don\\'t find any COMPANY_NAME provide the word NONE.  3. Please analyze the INPUT and provide a list of years the INPUT is referring to.      - You must follow these RULES.          RULES:              1.- You must provide all the individual years that the INPUT is referring to.             2.- You must separate the years by comma.              3.- You must provide only numbers separated by comma.             4.- Remember that the current year is 2023.             5.- You cannot provide years greater than \"2023\".             6.- You must provide only one OUTPUT.  4. Classify the INPUT text  into 5 different categories.      - You must follow these RULES.          RULES:               1.- Only use these categories to classify the INPUT: REVENUE, SPEND, PURCHASE_CONTRACTS, STRATEGIC_PARTNERS.             2.- Please look at the example provided to classify them.              3.- Provide only one classification              4.- If you don\\'t match the INPUT with any of the Categories. provide the word NONE.   INPUT:  Show me the Revenue for Microsoft for the last year   OUTPUT:  {     \"COMPANY_NAME\": \"Cisco\",     \"PERIOD\": \"2022\",     \"QUESTION_TYPE\": \"PURCHASE_CONTRACTS\" }  INPUT:  Please get me the spend for Tesla for the last year   OUTPUT:  {     \"COMPANY_NAME\": \"Tesla\",     \"PERIOD\": \"2022\",     \"QUESTION_TYPE\": \"SPEND\" }  INPUT:  Show me the active contracts for Cisco   OUTPUT:  {     \"COMPANY_NAME\": \"Cisco\",     \"PERIOD\": \"NONE\",     \"QUESTION_TYPE\": \"PURCHASE_CONTRACTS\" }  INPUT:  get me the 2q revenue for Apple in year 2022  OUTPUT:  {     \"COMPANY_NAME\": \"Apple\",     \"PERIOD\": \"2Q-2022\",     \"QUESTION_TYPE\": \"REVENUE\" }  INPUT:  I want to know about Cisco  OUTPUT:  {     \"COMPANY_NAME\": \"Cisco\",     \"PERIOD\": \"NONE\",     \"QUESTION_TYPE\": \"NONE\" }  INPUT:  Spend for Apple in the last 3 years   OUTPUT:  {     \"COMPANY_NAME\": \"Apple\",     \"PERIOD\": \"2023, 2022, 2021\",     \"QUESTION_TYPE\": \"SPEND\" }  INPUT:',\n",
       "      'Months': 3,\n",
       "      'greeting': 'hello',\n",
       "      'strategic_flow_live': False,\n",
       "      'Las_Year': 2022,\n",
       "      'contracts_flow_live': False,\n",
       "      'given_strategic_partner_date_question': \"'s balance of trade?\",\n",
       "      'ChangeYear': '\"\"',\n",
       "      'watsonxai_project_id': 'e1d6771b-c6b1-4ca8-9b63-5fb5c7b94b21',\n",
       "      'Current_Year': '2024',\n",
       "      'watsonxai_model_id_llama': 'meta-llama/llama-2-70b-chat',\n",
       "      'child_flow_live': False,\n",
       "      'companyList': 'microsoft',\n",
       "      'counterAskQuestion': 0,\n",
       "      'cx': '0123456789abcdef0',\n",
       "      'watsonxai_version': '2023-05-29',\n",
       "      'contracts_days_deafult': '1000',\n",
       "      'contracts_value_default': '0',\n",
       "      'predefinied_flow': False}}},\n",
       "   'metadata': {'user_id': 'anonymous_IBMuid-2bb715f0-9a44-4abc-a324-9d9e49377a77'},\n",
       "   'conversation_id': '7578e4f0-6a5d-4597-9018-1e674f911e38',\n",
       "   'global': {'system': {'user_id': 'anonymous_IBMuid-2bb715f0-9a44-4abc-a324-9d9e49377a77',\n",
       "     'timezone': 'America/Mexico_City',\n",
       "     'session_start_time': '2024-01-16T13:57:34.753Z',\n",
       "     'turn_count': 1,\n",
       "     'state': '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'},\n",
       "    'session_id': '7578e4f0-6a5d-4597-9018-1e674f911e38'},\n",
       "   'integrations': {'chat': {'browser_info': {'page_url': 'https://us-east.assistant.watson.cloud.ibm.com/crn%3Av1%3Abluemix%3Apublic%3Aconversation%3Aus-east%3Aa%2F29d47f055c584de3a10e0ff72fc99587%3Abdd9c15a-0c3e-44e1-b4a6-d06e9a6a7030%3A%3A/assistants/9dcbdb4b-f743-4a96-b20b-51f80f9ec4d7/actions/actions/custom',\n",
       "      'browser_name': 'chrome',\n",
       "      'ip_address_list': ['129.41.86.1',\n",
       "       ' 23.221.23.91',\n",
       "       '10.188.250.223',\n",
       "       '172.30.30.0'],\n",
       "      'client_ip_address': '129.41.86.1',\n",
       "      'language': 'en-US',\n",
       "      'browser_OS': 'Mac OS',\n",
       "      'browser_version': '120.0.0',\n",
       "      'screen_resolution': 'width: 1512, height: 982',\n",
       "      'user_agent': 'Mozilla/5.0 (Macintosh; Intel Mac OS X 10_15_7) AppleWebKit/537.36 (KHTML, like Gecko) Chrome/120.0.0.0 Safari/537.36'}},\n",
       "    'channel': {'name': 'Web chat'}}}},\n",
       " 'session_id': '7578e4f0-6a5d-4597-9018-1e674f911e38',\n",
       " 'language': 'en',\n",
       " 'skill_id': '5cbe6f41-8364-4f69-9e0a-1e7891cdde76',\n",
       " 'customer_id': 'anonymous_IBMuid-2bb715f0-9a44-4abc-a324-9d9e49377a77'}"
      ]
     },
     "execution_count": 55,
     "metadata": {},
     "output_type": "execute_result"
    }
   ],
   "source": [
    "all_logs[0]"
   ]
  },
  {
   "cell_type": "code",
   "execution_count": 52,
   "metadata": {},
   "outputs": [
    {
     "name": "stdout",
     "output_type": "stream",
     "text": [
      "REQUEST\n",
      "{'internal': {'callout_count': {'step_806_result_1': 0},\n",
      "              'callout_duration': 2245,\n",
      "              'callout_request': {'body': {'invoice_number': '000000000000393-EX,0005369289,001200115526-01,0094874223,0094960918,',\n",
      "                                           'user_id': 'sergioev@mx1.ibm.com'},\n",
      "                                  'headers': {'Content-Type': 'application/json',\n",
      "                                              'accept': 'application/json'},\n",
      "                                  'method': 'POST',\n",
      "                                  'path': '/invoice_summary',\n",
      "                                  'query_parameters': '',\n",
      "                                  'url': 'https://epm-token-api-test-emailsenderfunctionallity.5a8cbfd1.public.multi-containers.ibm.com'},\n",
      "              'callout_result_variable': 'step_806_result_1',\n",
      "              'integration_callback': {'ip_address': '172.30.79.160',\n",
      "                                       'request_id': '33ef6fcf-1e1a-45aa-9507-6f561933706d'},\n",
      "              'is_stateless': False,\n",
      "              'transaction_id': 'cb476f2b-05b3-41a9-8464-85b25ae068c5'},\n",
      " 'message_type': 'text',\n",
      " 'options': {'async_callout': True,\n",
      "             'debug': True,\n",
      "             'export': True,\n",
      "             'return_context': True,\n",
      "             'skip_user_input': True},\n",
      " 'text': ''}\n",
      "RESPONSE:\n",
      "{'debug': {'auto_learn': {'reports': {'lists': {'auto_learn_mode': 'off'}}},\n",
      "           'log_messages': [],\n",
      "           'output_generic_mapping': [{'source': {'action': 'action_44063-2',\n",
      "                                                  'step': 'step_643',\n",
      "                                                  'type': 'step'}},\n",
      "                                      {'source': {'action': 'action_44063-2',\n",
      "                                                  'step': 'step_266',\n",
      "                                                  'type': 'step'}},\n",
      "                                      {'source': {'action': 'action_44063-2',\n",
      "                                                  'step': 'step_266',\n",
      "                                                  'type': 'step'}}],\n",
      "           'turn_events': [{'action_start_time': '2024-02-14T21:27:07.655428734Z',\n",
      "                            'condition_type': 'user_defined',\n",
      "                            'event': 'step_visited',\n",
      "                            'source': {'action': 'action_44063-2',\n",
      "                                       'action_title': 'invoice summary/status '\n",
      "                                                       'main',\n",
      "                                       'step': 'step_643',\n",
      "                                       'type': 'step'}},\n",
      "                           {'action_start_time': '2024-02-14T21:27:07.655428734Z',\n",
      "                            'event': 'step_visited',\n",
      "                            'has_question': True,\n",
      "                            'source': {'action': 'action_44063-2',\n",
      "                                       'action_title': 'invoice summary/status '\n",
      "                                                       'main',\n",
      "                                       'step': 'step_266',\n",
      "                                       'type': 'step'}}]},\n",
      " 'entities': [{'confidence': 1,\n",
      "               'entity': 'sys-number',\n",
      "               'interpretation': {'numeric_value': 393, 'subtype': 'integer'},\n",
      "               'location': [0, 15],\n",
      "               'metadata': {'numeric_value': 393},\n",
      "               'value': '393'},\n",
      "              {'confidence': 1,\n",
      "               'entity': 'sys-number',\n",
      "               'interpretation': {'numeric_value': 5369289,\n",
      "                                  'subtype': 'integer'},\n",
      "               'location': [19, 29],\n",
      "               'metadata': {'numeric_value': 5369289},\n",
      "               'value': '5369289'},\n",
      "              {'confidence': 1,\n",
      "               'entity': 'sys-number',\n",
      "               'interpretation': {'numeric_value': 1200115526,\n",
      "                                  'range_link': 'number_range_30_45'},\n",
      "               'location': [30, 45],\n",
      "               'metadata': {'numeric_value': 1200115526},\n",
      "               'role': {'confidence': 1, 'type': 'number_from'},\n",
      "               'value': '1200115526'},\n",
      "              {'confidence': 1,\n",
      "               'entity': 'sys-number',\n",
      "               'interpretation': {'numeric_value': 1,\n",
      "                                  'range_link': 'number_range_30_45'},\n",
      "               'location': [30, 45],\n",
      "               'metadata': {'numeric_value': 1},\n",
      "               'role': {'confidence': 1, 'type': 'number_to'},\n",
      "               'value': '1'},\n",
      "              {'confidence': 1,\n",
      "               'entity': 'sys-number',\n",
      "               'interpretation': {'numeric_value': 94874223,\n",
      "                                  'subtype': 'integer'},\n",
      "               'location': [46, 56],\n",
      "               'metadata': {'numeric_value': 94874223},\n",
      "               'value': '94874223'},\n",
      "              {'confidence': 1,\n",
      "               'entity': 'sys-number',\n",
      "               'interpretation': {'numeric_value': 94960918,\n",
      "                                  'subtype': 'integer'},\n",
      "               'location': [57, 67],\n",
      "               'metadata': {'numeric_value': 94960918},\n",
      "               'value': '94960918'}],\n",
      " 'generic': [{'response_type': 'text',\n",
      "              'text': 'Here is your invoice report:\\n'\n",
      "                      '\\n'\n",
      "                      '<br />\\n'\n",
      "                      '\\n'\n",
      "                      '\\n'\n",
      "                      '\\n'\n",
      "                      '\\n'\n",
      "                      '\\n'\n",
      "                      '<table align=\"center\"  border=\"5\" class=\"dataframe '\n",
      "                      'bx--data-table bx--data-table--compact\">\\n'\n",
      "                      '  <thead align=\"center\" >\\n'\n",
      "                      '    <tr >\\n'\n",
      "                      '      <th align=\"center\" style=\"min-width: '\n",
      "                      '100px;\">Vendor Invoice Number</th>\\n'\n",
      "                      '      <th align=\"center\" style=\"min-width: 100px;\">IBM '\n",
      "                      'Internal Reference Number</th>\\n'\n",
      "                      '      <th align=\"center\" style=\"min-width: '\n",
      "                      '100px;\">Supplier Number</th>\\n'\n",
      "                      '      <th align=\"center\" style=\"min-width: '\n",
      "                      '100px;\">Supplier Name</th>\\n'\n",
      "                      '      <th align=\"center\" style=\"min-width: '\n",
      "                      '100px;\">Scheduled Payment Date</th>\\n'\n",
      "                      '      <th align=\"center\" style=\"min-width: '\n",
      "                      '100px;\">Total Cost Amount</th>\\n'\n",
      "                      '      <th align=\"center\" style=\"min-width: '\n",
      "                      '100px;\">Total Cost Currency Uniquename</th>\\n'\n",
      "                      '      <th align=\"center\" style=\"min-width: '\n",
      "                      '100px;\">Clearing Number</th>\\n'\n",
      "                      '      <th align=\"center\" style=\"min-width: '\n",
      "                      '100px;\">Purchase Order Number</th>\\n'\n",
      "                      '    </tr>\\n'\n",
      "                      '  </thead>\\n'\n",
      "                      '  <tbody>\\n'\n",
      "                      '    <tr>\\n'\n",
      "                      '      <td border=\"3\" border-color=\"blue\" '\n",
      "                      'align=\"center\">000000000000393-EX</td>\\n'\n",
      "                      '      <td border=\"3\" border-color=\"blue\" '\n",
      "                      'align=\"center\">B700446</td>\\n'\n",
      "                      '      <td border=\"3\" border-color=\"blue\" '\n",
      "                      'align=\"center\">1000422799</td>\\n'\n",
      "                      '      <td border=\"3\" border-color=\"blue\" '\n",
      "                      'align=\"center\">MOTIVFORCE MARKETING AND '\n",
      "                      'INCENTIVES</td>\\n'\n",
      "                      '      <td border=\"3\" border-color=\"blue\" '\n",
      "                      'align=\"center\">2020-05-20</td>\\n'\n",
      "                      '      <td border=\"3\" border-color=\"blue\" '\n",
      "                      'align=\"center\">27600.00</td>\\n'\n",
      "                      '      <td border=\"3\" border-color=\"blue\" '\n",
      "                      'align=\"center\">BRL</td>\\n'\n",
      "                      '      <td border=\"3\" border-color=\"blue\" '\n",
      "                      'align=\"center\">2020-06-05</td>\\n'\n",
      "                      '      <td border=\"3\" border-color=\"blue\" '\n",
      "                      'align=\"center\">TRE00058</td>\\n'\n",
      "                      '    </tr>\\n'\n",
      "                      '    <tr>\\n'\n",
      "                      '      <td border=\"3\" border-color=\"blue\" '\n",
      "                      'align=\"center\">0005369289</td>\\n'\n",
      "                      '      <td border=\"3\" border-color=\"blue\" '\n",
      "                      'align=\"center\">7000482641</td>\\n'\n",
      "                      '      <td border=\"3\" border-color=\"blue\" '\n",
      "                      'align=\"center\">1000262629</td>\\n'\n",
      "                      '      <td border=\"3\" border-color=\"blue\" '\n",
      "                      'align=\"center\">APEX SYSTEMS INC</td>\\n'\n",
      "                      '      <td border=\"3\" border-color=\"blue\" '\n",
      "                      'align=\"center\">2020-08-16</td>\\n'\n",
      "                      '      <td border=\"3\" border-color=\"blue\" '\n",
      "                      'align=\"center\">1896.40</td>\\n'\n",
      "                      '      <td border=\"3\" border-color=\"blue\" '\n",
      "                      'align=\"center\">USD</td>\\n'\n",
      "                      '      <td border=\"3\" border-color=\"blue\" '\n",
      "                      'align=\"center\">2020-08-13</td>\\n'\n",
      "                      '      <td border=\"3\" border-color=\"blue\" '\n",
      "                      'align=\"center\">4700167991</td>\\n'\n",
      "                      '    </tr>\\n'\n",
      "                      '    <tr>\\n'\n",
      "                      '      <td border=\"3\" border-color=\"blue\" '\n",
      "                      'align=\"center\">001200115526-01</td>\\n'\n",
      "                      '      <td border=\"3\" border-color=\"blue\" '\n",
      "                      'align=\"center\">AR30838</td>\\n'\n",
      "                      '      <td border=\"3\" border-color=\"blue\" '\n",
      "                      'align=\"center\">1000438345</td>\\n'\n",
      "                      '      <td border=\"3\" border-color=\"blue\" '\n",
      "                      'align=\"center\">DELOITTE AND CO S A</td>\\n'\n",
      "                      '      <td border=\"3\" border-color=\"blue\" '\n",
      "                      'align=\"center\">2021-03-25</td>\\n'\n",
      "                      '      <td border=\"3\" border-color=\"blue\" '\n",
      "                      'align=\"center\">1965932.84</td>\\n'\n",
      "                      '      <td border=\"3\" border-color=\"blue\" '\n",
      "                      'align=\"center\">ARS</td>\\n'\n",
      "                      '      <td border=\"3\" border-color=\"blue\" '\n",
      "                      'align=\"center\">2021-03-25</td>\\n'\n",
      "                      '      <td border=\"3\" border-color=\"blue\" '\n",
      "                      'align=\"center\">ABJ3QN01</td>\\n'\n",
      "                      '    </tr>\\n'\n",
      "                      '    <tr>\\n'\n",
      "                      '      <td border=\"3\" border-color=\"blue\" '\n",
      "                      'align=\"center\">0094874223</td>\\n'\n",
      "                      '      <td border=\"3\" border-color=\"blue\" '\n",
      "                      'align=\"center\">7000021833</td>\\n'\n",
      "                      '      <td border=\"3\" border-color=\"blue\" '\n",
      "                      'align=\"center\">1000090852</td>\\n'\n",
      "                      '      <td border=\"3\" border-color=\"blue\" '\n",
      "                      'align=\"center\">SDI INTERNATIONAL CORP</td>\\n'\n",
      "                      '      <td border=\"3\" border-color=\"blue\" '\n",
      "                      'align=\"center\">2019-03-26</td>\\n'\n",
      "                      '      <td border=\"3\" border-color=\"blue\" '\n",
      "                      'align=\"center\">2563.73</td>\\n'\n",
      "                      '      <td border=\"3\" border-color=\"blue\" '\n",
      "                      'align=\"center\">USD</td>\\n'\n",
      "                      '      <td border=\"3\" border-color=\"blue\" '\n",
      "                      'align=\"center\">2019-04-05</td>\\n'\n",
      "                      '      <td border=\"3\" border-color=\"blue\" '\n",
      "                      'align=\"center\">4700019175</td>\\n'\n",
      "                      '    </tr>\\n'\n",
      "                      '    <tr>\\n'\n",
      "                      '      <td border=\"3\" border-color=\"blue\" '\n",
      "                      'align=\"center\">0094960918</td>\\n'\n",
      "                      '      <td border=\"3\" border-color=\"blue\" '\n",
      "                      'align=\"center\">7000051971</td>\\n'\n",
      "                      '      <td border=\"3\" border-color=\"blue\" '\n",
      "                      'align=\"center\">1000090852</td>\\n'\n",
      "                      '      <td border=\"3\" border-color=\"blue\" '\n",
      "                      'align=\"center\">SDI INTERNATIONAL CORP</td>\\n'\n",
      "                      '      <td border=\"3\" border-color=\"blue\" '\n",
      "                      'align=\"center\">2019-05-14</td>\\n'\n",
      "                      '      <td border=\"3\" border-color=\"blue\" '\n",
      "                      'align=\"center\">2659.39</td>\\n'\n",
      "                      '      <td border=\"3\" border-color=\"blue\" '\n",
      "                      'align=\"center\">USD</td>\\n'\n",
      "                      '      <td border=\"3\" border-color=\"blue\" '\n",
      "                      'align=\"center\">2019-05-10</td>\\n'\n",
      "                      '      <td border=\"3\" border-color=\"blue\" '\n",
      "                      'align=\"center\">4700017734</td>\\n'\n",
      "                      '    </tr>\\n'\n",
      "                      '  </tbody>\\n'\n",
      "                      '</table>'},\n",
      "             {'repeat_on_reprompt': False,\n",
      "              'response_type': 'text',\n",
      "              'text': 'How was your experience with Invoice report?'},\n",
      "             {'options': [{'label': '👍', 'value': {'input': {'text': '👍'}}},\n",
      "                          {'label': '👎', 'value': {'input': {'text': '👎'}}}],\n",
      "              'repeat_on_reprompt': True,\n",
      "              'response_type': 'option'}],\n",
      " 'intents': [{'confidence': 0.02648358792066574,\n",
      "              'intent': 'fallback_connect_to_agent'},\n",
      "             {'confidence': 0.02366628125309944,\n",
      "              'intent': 'action_44063_intent_34961-2'},\n",
      "             {'confidence': 0.02350149303674698,\n",
      "              'intent': 'action_36338_intent_10557'},\n",
      "             {'confidence': 0.023238975554704666,\n",
      "              'intent': 'action_3898_intent_14987'},\n",
      "             {'confidence': 0.022759852930903435,\n",
      "              'intent': 'action_9369_intent_21006'},\n",
      "             {'confidence': 0.022511519491672516,\n",
      "              'intent': 'action_13869_intent_26424'},\n",
      "             {'confidence': 0.022132115438580513,\n",
      "              'intent': 'action_49633_intent_9280-3'},\n",
      "             {'confidence': 0.020940085873007774,\n",
      "              'intent': 'action_2932_intent_3774'},\n",
      "             {'confidence': 0.02087515778839588,\n",
      "              'intent': 'action_9915_intent_28846'},\n",
      "             {'confidence': 0.01993965171277523,\n",
      "              'intent': 'action_30749_intent_34731-2'}],\n",
      " 'log_messages': [],\n",
      " 'text': ['Here is your invoice report:\\n'\n",
      "          '\\n'\n",
      "          '<br />\\n'\n",
      "          '\\n'\n",
      "          '\\n'\n",
      "          '\\n'\n",
      "          '\\n'\n",
      "          '\\n'\n",
      "          '<table align=\"center\"  border=\"5\" class=\"dataframe bx--data-table '\n",
      "          'bx--data-table--compact\">\\n'\n",
      "          '  <thead align=\"center\" >\\n'\n",
      "          '    <tr >\\n'\n",
      "          '      <th align=\"center\" style=\"min-width: 100px;\">Vendor Invoice '\n",
      "          'Number</th>\\n'\n",
      "          '      <th align=\"center\" style=\"min-width: 100px;\">IBM Internal '\n",
      "          'Reference Number</th>\\n'\n",
      "          '      <th align=\"center\" style=\"min-width: 100px;\">Supplier '\n",
      "          'Number</th>\\n'\n",
      "          '      <th align=\"center\" style=\"min-width: 100px;\">Supplier '\n",
      "          'Name</th>\\n'\n",
      "          '      <th align=\"center\" style=\"min-width: 100px;\">Scheduled '\n",
      "          'Payment Date</th>\\n'\n",
      "          '      <th align=\"center\" style=\"min-width: 100px;\">Total Cost '\n",
      "          'Amount</th>\\n'\n",
      "          '      <th align=\"center\" style=\"min-width: 100px;\">Total Cost '\n",
      "          'Currency Uniquename</th>\\n'\n",
      "          '      <th align=\"center\" style=\"min-width: 100px;\">Clearing '\n",
      "          'Number</th>\\n'\n",
      "          '      <th align=\"center\" style=\"min-width: 100px;\">Purchase Order '\n",
      "          'Number</th>\\n'\n",
      "          '    </tr>\\n'\n",
      "          '  </thead>\\n'\n",
      "          '  <tbody>\\n'\n",
      "          '    <tr>\\n'\n",
      "          '      <td border=\"3\" border-color=\"blue\" '\n",
      "          'align=\"center\">000000000000393-EX</td>\\n'\n",
      "          '      <td border=\"3\" border-color=\"blue\" '\n",
      "          'align=\"center\">B700446</td>\\n'\n",
      "          '      <td border=\"3\" border-color=\"blue\" '\n",
      "          'align=\"center\">1000422799</td>\\n'\n",
      "          '      <td border=\"3\" border-color=\"blue\" align=\"center\">MOTIVFORCE '\n",
      "          'MARKETING AND INCENTIVES</td>\\n'\n",
      "          '      <td border=\"3\" border-color=\"blue\" '\n",
      "          'align=\"center\">2020-05-20</td>\\n'\n",
      "          '      <td border=\"3\" border-color=\"blue\" '\n",
      "          'align=\"center\">27600.00</td>\\n'\n",
      "          '      <td border=\"3\" border-color=\"blue\" align=\"center\">BRL</td>\\n'\n",
      "          '      <td border=\"3\" border-color=\"blue\" '\n",
      "          'align=\"center\">2020-06-05</td>\\n'\n",
      "          '      <td border=\"3\" border-color=\"blue\" '\n",
      "          'align=\"center\">TRE00058</td>\\n'\n",
      "          '    </tr>\\n'\n",
      "          '    <tr>\\n'\n",
      "          '      <td border=\"3\" border-color=\"blue\" '\n",
      "          'align=\"center\">0005369289</td>\\n'\n",
      "          '      <td border=\"3\" border-color=\"blue\" '\n",
      "          'align=\"center\">7000482641</td>\\n'\n",
      "          '      <td border=\"3\" border-color=\"blue\" '\n",
      "          'align=\"center\">1000262629</td>\\n'\n",
      "          '      <td border=\"3\" border-color=\"blue\" align=\"center\">APEX '\n",
      "          'SYSTEMS INC</td>\\n'\n",
      "          '      <td border=\"3\" border-color=\"blue\" '\n",
      "          'align=\"center\">2020-08-16</td>\\n'\n",
      "          '      <td border=\"3\" border-color=\"blue\" '\n",
      "          'align=\"center\">1896.40</td>\\n'\n",
      "          '      <td border=\"3\" border-color=\"blue\" align=\"center\">USD</td>\\n'\n",
      "          '      <td border=\"3\" border-color=\"blue\" '\n",
      "          'align=\"center\">2020-08-13</td>\\n'\n",
      "          '      <td border=\"3\" border-color=\"blue\" '\n",
      "          'align=\"center\">4700167991</td>\\n'\n",
      "          '    </tr>\\n'\n",
      "          '    <tr>\\n'\n",
      "          '      <td border=\"3\" border-color=\"blue\" '\n",
      "          'align=\"center\">001200115526-01</td>\\n'\n",
      "          '      <td border=\"3\" border-color=\"blue\" '\n",
      "          'align=\"center\">AR30838</td>\\n'\n",
      "          '      <td border=\"3\" border-color=\"blue\" '\n",
      "          'align=\"center\">1000438345</td>\\n'\n",
      "          '      <td border=\"3\" border-color=\"blue\" align=\"center\">DELOITTE '\n",
      "          'AND CO S A</td>\\n'\n",
      "          '      <td border=\"3\" border-color=\"blue\" '\n",
      "          'align=\"center\">2021-03-25</td>\\n'\n",
      "          '      <td border=\"3\" border-color=\"blue\" '\n",
      "          'align=\"center\">1965932.84</td>\\n'\n",
      "          '      <td border=\"3\" border-color=\"blue\" align=\"center\">ARS</td>\\n'\n",
      "          '      <td border=\"3\" border-color=\"blue\" '\n",
      "          'align=\"center\">2021-03-25</td>\\n'\n",
      "          '      <td border=\"3\" border-color=\"blue\" '\n",
      "          'align=\"center\">ABJ3QN01</td>\\n'\n",
      "          '    </tr>\\n'\n",
      "          '    <tr>\\n'\n",
      "          '      <td border=\"3\" border-color=\"blue\" '\n",
      "          'align=\"center\">0094874223</td>\\n'\n",
      "          '      <td border=\"3\" border-color=\"blue\" '\n",
      "          'align=\"center\">7000021833</td>\\n'\n",
      "          '      <td border=\"3\" border-color=\"blue\" '\n",
      "          'align=\"center\">1000090852</td>\\n'\n",
      "          '      <td border=\"3\" border-color=\"blue\" align=\"center\">SDI '\n",
      "          'INTERNATIONAL CORP</td>\\n'\n",
      "          '      <td border=\"3\" border-color=\"blue\" '\n",
      "          'align=\"center\">2019-03-26</td>\\n'\n",
      "          '      <td border=\"3\" border-color=\"blue\" '\n",
      "          'align=\"center\">2563.73</td>\\n'\n",
      "          '      <td border=\"3\" border-color=\"blue\" align=\"center\">USD</td>\\n'\n",
      "          '      <td border=\"3\" border-color=\"blue\" '\n",
      "          'align=\"center\">2019-04-05</td>\\n'\n",
      "          '      <td border=\"3\" border-color=\"blue\" '\n",
      "          'align=\"center\">4700019175</td>\\n'\n",
      "          '    </tr>\\n'\n",
      "          '    <tr>\\n'\n",
      "          '      <td border=\"3\" border-color=\"blue\" '\n",
      "          'align=\"center\">0094960918</td>\\n'\n",
      "          '      <td border=\"3\" border-color=\"blue\" '\n",
      "          'align=\"center\">7000051971</td>\\n'\n",
      "          '      <td border=\"3\" border-color=\"blue\" '\n",
      "          'align=\"center\">1000090852</td>\\n'\n",
      "          '      <td border=\"3\" border-color=\"blue\" align=\"center\">SDI '\n",
      "          'INTERNATIONAL CORP</td>\\n'\n",
      "          '      <td border=\"3\" border-color=\"blue\" '\n",
      "          'align=\"center\">2019-05-14</td>\\n'\n",
      "          '      <td border=\"3\" border-color=\"blue\" '\n",
      "          'align=\"center\">2659.39</td>\\n'\n",
      "          '      <td border=\"3\" border-color=\"blue\" align=\"center\">USD</td>\\n'\n",
      "          '      <td border=\"3\" border-color=\"blue\" '\n",
      "          'align=\"center\">2019-05-10</td>\\n'\n",
      "          '      <td border=\"3\" border-color=\"blue\" '\n",
      "          'align=\"center\">4700017734</td>\\n'\n",
      "          '    </tr>\\n'\n",
      "          '  </tbody>\\n'\n",
      "          '</table>',\n",
      "          'How was your experience with Invoice report?']}\n"
     ]
    }
   ],
   "source": [
    "log = 9435\n",
    "print('REQUEST')\n",
    "pprint.pprint(all_logs[log].get('request').get('input'))\n",
    "print('RESPONSE:')\n",
    "pprint.pprint(all_logs[log].get('response').get('output'))\n"
   ]
  },
  {
   "cell_type": "code",
   "execution_count": null,
   "metadata": {},
   "outputs": [],
   "source": [
    "# Get all keys for requests \n",
    "request_first_level_keys = set()\n",
    "\n",
    "for log in all_logs:\n",
    "    data = log.get('request').get('input')\n",
    "    keys = data.keys()\n",
    "    for k in keys:\n",
    "        request_first_level_keys.add(k)"
   ]
  },
  {
   "cell_type": "code",
   "execution_count": null,
   "metadata": {},
   "outputs": [],
   "source": [
    "request_first_level_keys"
   ]
  },
  {
   "cell_type": "code",
   "execution_count": null,
   "metadata": {},
   "outputs": [],
   "source": [
    "# count all keys from request \n",
    "\n",
    "keys_counter = {\n",
    "    'entities': 0,\n",
    "    'filter': 0,\n",
    "    'intents': 0,\n",
    "    'internal': 0,\n",
    "    'message_type': 0,\n",
    "    'options': 0,\n",
    "    'query_type': 0,\n",
    "    'return_to_dialog': 0,\n",
    "    'source': 0,\n",
    "    'suggestion_id': 0,\n",
    "    'text': 0\n",
    "}\n",
    "\n",
    "for log in all_logs:\n",
    "    data = log.get('request').get('input')\n",
    "    keys = data.keys()\n",
    "    for k in keys_counter.keys():\n",
    "        if k in keys:\n",
    "            keys_counter[k] += 1\n",
    "\n"
   ]
  },
  {
   "cell_type": "code",
   "execution_count": null,
   "metadata": {},
   "outputs": [],
   "source": [
    "keys_counter"
   ]
  },
  {
   "cell_type": "code",
   "execution_count": null,
   "metadata": {},
   "outputs": [],
   "source": [
    "# anlyze the data in each key for request \n",
    "count = 0\n",
    "\n",
    "for log in all_logs:\n",
    "    data = log.get('request').get('input')\n",
    "    keys = data.keys()\n",
    "    if 'suggestion_id' in keys:\n",
    "        pprint.pprint(data)\n",
    "        print('--------END--------')\n",
    "        count += 1\n",
    "    if count == 7:\n",
    "        break\n",
    "\n"
   ]
  },
  {
   "cell_type": "code",
   "execution_count": null,
   "metadata": {},
   "outputs": [],
   "source": [
    "all_logs[0].get('request').get('input')"
   ]
  },
  {
   "cell_type": "code",
   "execution_count": null,
   "metadata": {},
   "outputs": [],
   "source": [
    "def json_expander(base_dict):\n",
    "    my_data = {}\n",
    "    change_counts = 0\n",
    "    for key, val in base_dict.items():\n",
    "        if type(val) == dict:\n",
    "            change_counts += 1\n",
    "            for key2, val2 in val.items():\n",
    "                my_data[key+'_'+key2] = val2\n",
    "        if type(val) == str:\n",
    "            my_data[key] = val\n",
    "        if type(val) == list:\n",
    "            if (len(val)>0) and (type(val[0]) == dict):\n",
    "                change_counts += 1\n",
    "                for key3, val3 in val[0].items():\n",
    "                    my_data[key+'_'+key3] = val3\n",
    "            if (len(val)>0) and (type(val[0]) == str):\n",
    "                my_data[key] = val[0]\n",
    "\n",
    "    return my_data, change_counts"
   ]
  },
  {
   "cell_type": "code",
   "execution_count": null,
   "metadata": {},
   "outputs": [],
   "source": [
    "all_logs[0].get('response').get('output')"
   ]
  },
  {
   "cell_type": "code",
   "execution_count": null,
   "metadata": {},
   "outputs": [],
   "source": [
    "df = pd.DataFrame()\n",
    "data = {\n",
    "    'log_id': all_logs[0].get('log_id'),\n",
    "    'input': all_logs[0].get('request').get('input')\n",
    "    }\n",
    "\n",
    "data\n"
   ]
  },
  {
   "cell_type": "code",
   "execution_count": null,
   "metadata": {},
   "outputs": [],
   "source": [
    "counter_while = 0\n",
    "change_counter = 1 \n",
    "\n",
    "while change_counter != 0:\n",
    "    if counter_while == 0:\n",
    "        new_data, change_counter = json_expander(base_dict=data)\n",
    "        counter_while += 1\n",
    "    else: \n",
    "        new_data, change_counter = json_expander(base_dict=new_data)\n",
    "    \n"
   ]
  },
  {
   "cell_type": "code",
   "execution_count": null,
   "metadata": {},
   "outputs": [],
   "source": [
    "new_data"
   ]
  },
  {
   "cell_type": "markdown",
   "metadata": {},
   "source": [
    "# How to save logs in able or csv "
   ]
  },
  {
   "cell_type": "code",
   "execution_count": null,
   "metadata": {},
   "outputs": [],
   "source": [
    "df_logs = pd.DataFrame()\n",
    "\n",
    "for log in all_logs: \n",
    "    temp = {\n",
    "        'log_id' : log.get('log_id'),\n",
    "        'request_timestamp' : log.get('request_timestamp'),\n",
    "        'response_timestamp' : log.get('response_timestamp'),\n",
    "        'assistant_id' : log.get('assistant_id'),\n",
    "        'session_id' : log.get('session_id'),\n",
    "        'customer_id' : log.get('customer_id'),\n",
    "        'skill_id' : log.get('skill_id'),\n",
    "        'request_input' : log.get('request').get('input'),\n",
    "        'response_output' : log.get('response').get('output')\n",
    "    }\n",
    "    counter_while = 0\n",
    "    change_counter = 1 \n",
    "\n",
    "    while change_counter != 0:\n",
    "        if counter_while == 0:\n",
    "            new_data, change_counter = json_expander(base_dict=temp)\n",
    "            counter_while += 1\n",
    "        else: \n",
    "            new_data, change_counter = json_expander(base_dict=new_data)\n",
    "\n",
    "    temp_df = pd.DataFrame([new_data])\n",
    "    #print(temp_df['input_source_id'][0])\n",
    "\n",
    "    df_logs = pd.concat([df_logs, temp_df], ignore_index=True)\n",
    "\n",
    "    \n"
   ]
  },
  {
   "cell_type": "code",
   "execution_count": null,
   "metadata": {},
   "outputs": [],
   "source": [
    "all_logs[0].keys()"
   ]
  },
  {
   "cell_type": "code",
   "execution_count": null,
   "metadata": {},
   "outputs": [],
   "source": [
    "for k in all_logs[0].keys():\n",
    "    print(k)"
   ]
  },
  {
   "cell_type": "code",
   "execution_count": null,
   "metadata": {},
   "outputs": [],
   "source": [
    "all_logs[500].get('request').get('input')"
   ]
  },
  {
   "cell_type": "code",
   "execution_count": null,
   "metadata": {},
   "outputs": [],
   "source": [
    "all_logs[0].get('request').get('input').keys()"
   ]
  },
  {
   "cell_type": "code",
   "execution_count": null,
   "metadata": {},
   "outputs": [],
   "source": [
    "df_logs['request_timestamp'] = pd.to_datetime(df_logs['request_timestamp'], utc=False)#.dt.floor('ms')\n",
    "df_logs['request_timestamp'] = df_logs['request_timestamp'].dt.tz_localize(None)\n",
    "df_logs['response_timestamp'] = pd.to_datetime(df_logs['response_timestamp'], utc=False)#.dt.floor('ms')\n",
    "df_logs['response_timestamp'] = df_logs['response_timestamp'].dt.tz_localize(None)\n",
    "df_logs.sort_values(inplace=True, by=['session_id', 'request_timestamp'], ascending=[True, True])\n",
    "df_logs.reset_index(inplace=True, drop=True)\n",
    "df_logs.head()"
   ]
  },
  {
   "cell_type": "code",
   "execution_count": null,
   "metadata": {},
   "outputs": [],
   "source": [
    "df_logs.columns"
   ]
  },
  {
   "cell_type": "code",
   "execution_count": null,
   "metadata": {},
   "outputs": [],
   "source": [
    "df_logs.to_csv('df_logs.csv', index=False, sep='|')\n",
    "#df_logs.to_parquet('df_logs.gzip', index=False, compression='gzip')"
   ]
  },
  {
   "cell_type": "code",
   "execution_count": null,
   "metadata": {},
   "outputs": [],
   "source": [
    "!pip install openpyxl"
   ]
  },
  {
   "cell_type": "code",
   "execution_count": null,
   "metadata": {},
   "outputs": [],
   "source": [
    "df_logs.to_excel('df_logs.xlsx', index=False)"
   ]
  },
  {
   "cell_type": "code",
   "execution_count": null,
   "metadata": {},
   "outputs": [],
   "source": [
    "all_logs[9000].keys()"
   ]
  },
  {
   "cell_type": "code",
   "execution_count": null,
   "metadata": {},
   "outputs": [],
   "source": [
    "all_logs[9001].get('customer_id')"
   ]
  },
  {
   "cell_type": "code",
   "execution_count": null,
   "metadata": {},
   "outputs": [],
   "source": [
    "all_logs[9000].get('request').get('input')"
   ]
  },
  {
   "cell_type": "code",
   "execution_count": null,
   "metadata": {},
   "outputs": [],
   "source": [
    "all_logs[9000].get('response').get('output')"
   ]
  },
  {
   "cell_type": "code",
   "execution_count": null,
   "metadata": {},
   "outputs": [],
   "source": [
    "logs_draft = assistant.list_logs(assistant_id=ASSISTANT_ENV_ID)"
   ]
  },
  {
   "cell_type": "code",
   "execution_count": null,
   "metadata": {},
   "outputs": [],
   "source": [
    "# saving the logs data in a variable\n",
    "logs_results_data = logs_draft.get_result()"
   ]
  },
  {
   "cell_type": "code",
   "execution_count": null,
   "metadata": {},
   "outputs": [],
   "source": [
    "# what keys do we have in the dictionay ? \n",
    "logs_results_data.keys()"
   ]
  },
  {
   "cell_type": "code",
   "execution_count": null,
   "metadata": {},
   "outputs": [],
   "source": [
    "logs_results_data['pagination']"
   ]
  },
  {
   "cell_type": "code",
   "execution_count": null,
   "metadata": {},
   "outputs": [],
   "source": [
    "len(logs_results_data['logs'])"
   ]
  },
  {
   "cell_type": "code",
   "execution_count": null,
   "metadata": {},
   "outputs": [],
   "source": [
    "#log results (only one element of the log list)\n",
    "logs_results_data['logs']"
   ]
  }
 ],
 "metadata": {
  "kernelspec": {
   "display_name": "p311_watsonx_gallery_sql",
   "language": "python",
   "name": "python3"
  },
  "language_info": {
   "codemirror_mode": {
    "name": "ipython",
    "version": 3
   },
   "file_extension": ".py",
   "mimetype": "text/x-python",
   "name": "python",
   "nbconvert_exporter": "python",
   "pygments_lexer": "ipython3",
   "version": "3.11.5"
  }
 },
 "nbformat": 4,
 "nbformat_minor": 2
}
