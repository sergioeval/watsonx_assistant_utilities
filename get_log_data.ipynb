{
 "cells": [
  {
   "cell_type": "markdown",
   "metadata": {},
   "source": [
    "# API documentation \n",
    "https://cloud.ibm.com/apidocs/assistant-v2?code=python#listassistants\n"
   ]
  },
  {
   "cell_type": "code",
   "execution_count": 1,
   "metadata": {},
   "outputs": [
    {
     "data": {
      "text/plain": [
       "True"
      ]
     },
     "execution_count": 1,
     "metadata": {},
     "output_type": "execute_result"
    }
   ],
   "source": [
    "import pprint\n",
    "from dotenv import load_dotenv\n",
    "import os\n",
    "import json\n",
    "from ibm_watson import AssistantV2\n",
    "from ibm_cloud_sdk_core.authenticators import IAMAuthenticator\n",
    "import pandas as pd\n",
    "import pickle\n",
    "\n",
    "load_dotenv()"
   ]
  },
  {
   "cell_type": "markdown",
   "metadata": {},
   "source": [
    "# API assistant setup"
   ]
  },
  {
   "cell_type": "code",
   "execution_count": null,
   "metadata": {},
   "outputs": [],
   "source": [
    "API_KEY = os.getenv(key='API_KEY')\n",
    "URL = 'https://api.us-east.assistant.watson.cloud.ibm.com/'\n",
    "ASSISTANT_NAME = 'Ask_Proc_Main'"
   ]
  },
  {
   "cell_type": "code",
   "execution_count": null,
   "metadata": {},
   "outputs": [],
   "source": [
    "\n",
    "authenticator = IAMAuthenticator(API_KEY)\n",
    "assistant = AssistantV2(\n",
    "    version='2021-06-14',\n",
    "    authenticator = authenticator\n",
    ")\n",
    "\n",
    "assistant.set_service_url(URL)"
   ]
  },
  {
   "cell_type": "markdown",
   "metadata": {},
   "source": [
    "# Get List of assistants available\n",
    "\n",
    "This will give you all the assistants that are available in that instance in IBM cloud. "
   ]
  },
  {
   "cell_type": "code",
   "execution_count": null,
   "metadata": {},
   "outputs": [],
   "source": [
    "assistants_list = assistant.list_assistants()"
   ]
  },
  {
   "cell_type": "code",
   "execution_count": null,
   "metadata": {},
   "outputs": [],
   "source": [
    "for bot in assistants_list.get_result().get('assistants'):\n",
    "    if bot.get('name') == ASSISTANT_NAME:\n",
    "        ASSISTANT_ID = bot.get('assistant_id')\n",
    "        pprint.pprint(bot)\n",
    "\n",
    "print(f'\\n\\nYour assistant id is: {ASSISTANT_ID}')"
   ]
  },
  {
   "cell_type": "code",
   "execution_count": null,
   "metadata": {},
   "outputs": [],
   "source": [
    "# here you can define the assistant environment to get the logs from \n",
    "ASSISTANT_ENV_ID = '572332fa-74b2-4e42-9c4d-93c891106824'"
   ]
  },
  {
   "cell_type": "markdown",
   "metadata": {},
   "source": [
    "# Get log data "
   ]
  },
  {
   "cell_type": "code",
   "execution_count": null,
   "metadata": {},
   "outputs": [],
   "source": [
    "# to get all the logs \n",
    "cursor = None\n",
    "page = 1\n",
    "\n",
    "all_logs = []\n",
    "\n",
    "while True:\n",
    "    print(f'working on page {page}')\n",
    "    page += 1\n",
    "    response=assistant.list_logs(\n",
    "        assistant_id=ASSISTANT_ENV_ID,\n",
    "        cursor=cursor,\n",
    "    ).get_result()\n",
    "\n",
    "    all_logs.extend(response['logs'])\n",
    "\n",
    "    cursor=response.get('pagination').get('next_cursor')\n",
    "    if not cursor:\n",
    "        break"
   ]
  },
  {
   "cell_type": "code",
   "execution_count": null,
   "metadata": {},
   "outputs": [],
   "source": [
    "len(all_logs)"
   ]
  },
  {
   "cell_type": "markdown",
   "metadata": {},
   "source": [
    "#to sabe the logs in picke object \n",
    "with open('all_logs.pkl', 'wb') as file: \n",
    "    pickle.dump(all_logs, file=file)"
   ]
  },
  {
   "cell_type": "markdown",
   "metadata": {},
   "source": [
    "# From here to read all the logs from pkl file "
   ]
  },
  {
   "cell_type": "code",
   "execution_count": 2,
   "metadata": {},
   "outputs": [],
   "source": [
    "#read pickle back \n",
    "with open('all_logs.pkl', 'rb') as file:\n",
    "    # Load the pickle object using pickle.load\n",
    "    all_logs = pickle.load(file)"
   ]
  },
  {
   "cell_type": "code",
   "execution_count": 3,
   "metadata": {},
   "outputs": [
    {
     "data": {
      "text/plain": [
       "9174"
      ]
     },
     "execution_count": 3,
     "metadata": {},
     "output_type": "execute_result"
    }
   ],
   "source": [
    "len(all_logs)"
   ]
  },
  {
   "cell_type": "code",
   "execution_count": null,
   "metadata": {},
   "outputs": [],
   "source": [
    "# Get all keys for requests \n",
    "request_first_level_keys = set()\n",
    "\n",
    "for log in all_logs:\n",
    "    data = log.get('request').get('input')\n",
    "    keys = data.keys()\n",
    "    for k in keys:\n",
    "        request_first_level_keys.add(k)"
   ]
  },
  {
   "cell_type": "code",
   "execution_count": null,
   "metadata": {},
   "outputs": [],
   "source": [
    "request_first_level_keys"
   ]
  },
  {
   "cell_type": "code",
   "execution_count": null,
   "metadata": {},
   "outputs": [],
   "source": [
    "# count all keys from request \n",
    "\n",
    "keys_counter = {\n",
    "    'entities': 0,\n",
    "    'filter': 0,\n",
    "    'intents': 0,\n",
    "    'internal': 0,\n",
    "    'message_type': 0,\n",
    "    'options': 0,\n",
    "    'query_type': 0,\n",
    "    'return_to_dialog': 0,\n",
    "    'source': 0,\n",
    "    'suggestion_id': 0,\n",
    "    'text': 0\n",
    "}\n",
    "\n",
    "for log in all_logs:\n",
    "    data = log.get('request').get('input')\n",
    "    keys = data.keys()\n",
    "    for k in keys_counter.keys():\n",
    "        if k in keys:\n",
    "            keys_counter[k] += 1\n",
    "\n"
   ]
  },
  {
   "cell_type": "code",
   "execution_count": null,
   "metadata": {},
   "outputs": [],
   "source": [
    "keys_counter"
   ]
  },
  {
   "cell_type": "code",
   "execution_count": null,
   "metadata": {},
   "outputs": [],
   "source": [
    "# anlyze the data in each key for request \n",
    "count = 0\n",
    "\n",
    "for log in all_logs:\n",
    "    data = log.get('request').get('input')\n",
    "    keys = data.keys()\n",
    "    if 'suggestion_id' in keys:\n",
    "        pprint.pprint(data)\n",
    "        print('--------END--------')\n",
    "        count += 1\n",
    "    if count == 7:\n",
    "        break\n",
    "\n"
   ]
  },
  {
   "cell_type": "code",
   "execution_count": null,
   "metadata": {},
   "outputs": [],
   "source": [
    "all_logs[0].get('request').get('input')"
   ]
  },
  {
   "cell_type": "code",
   "execution_count": 12,
   "metadata": {},
   "outputs": [],
   "source": [
    "def json_expander(base_dict):\n",
    "    my_data = {}\n",
    "    change_counts = 0\n",
    "    for key, val in base_dict.items():\n",
    "        if type(val) == dict:\n",
    "            change_counts += 1\n",
    "            for key2, val2 in val.items():\n",
    "                my_data[key+'_'+key2] = val2\n",
    "        if type(val) == str:\n",
    "            my_data[key] = val\n",
    "        if type(val) == list:\n",
    "            if (len(val)>0) and (type(val[0]) == dict):\n",
    "                change_counts += 1\n",
    "                for key3, val3 in val[0].items():\n",
    "                    my_data[key+'_'+key3] = val3\n",
    "            if (len(val)>0) and (type(val[0]) == str):\n",
    "                my_data[key] = val[0]\n",
    "\n",
    "    return my_data, change_counts"
   ]
  },
  {
   "cell_type": "code",
   "execution_count": null,
   "metadata": {},
   "outputs": [],
   "source": [
    "all_logs[0].get('response').get('output')"
   ]
  },
  {
   "cell_type": "code",
   "execution_count": null,
   "metadata": {},
   "outputs": [],
   "source": [
    "df = pd.DataFrame()\n",
    "data = {\n",
    "    'log_id': all_logs[0].get('log_id'),\n",
    "    'input': all_logs[0].get('request').get('input')\n",
    "    }\n",
    "\n",
    "data\n"
   ]
  },
  {
   "cell_type": "code",
   "execution_count": null,
   "metadata": {},
   "outputs": [],
   "source": [
    "counter_while = 0\n",
    "change_counter = 1 \n",
    "\n",
    "while change_counter != 0:\n",
    "    if counter_while == 0:\n",
    "        new_data, change_counter = json_expander(base_dict=data)\n",
    "        counter_while += 1\n",
    "    else: \n",
    "        new_data, change_counter = json_expander(base_dict=new_data)\n",
    "    \n"
   ]
  },
  {
   "cell_type": "code",
   "execution_count": null,
   "metadata": {},
   "outputs": [],
   "source": [
    "new_data"
   ]
  },
  {
   "cell_type": "markdown",
   "metadata": {},
   "source": [
    "# How to save logs in able or csv "
   ]
  },
  {
   "cell_type": "code",
   "execution_count": 13,
   "metadata": {},
   "outputs": [],
   "source": [
    "df_logs = pd.DataFrame()\n",
    "\n",
    "for log in all_logs: \n",
    "    temp = {\n",
    "        'log_id' : log.get('log_id'),\n",
    "        'request_timestamp' : log.get('request_timestamp'),\n",
    "        'response_timestamp' : log.get('response_timestamp'),\n",
    "        'assistant_id' : log.get('assistant_id'),\n",
    "        'session_id' : log.get('session_id'),\n",
    "        'customer_id' : log.get('customer_id'),\n",
    "        'skill_id' : log.get('skill_id'),\n",
    "        'request_input' : log.get('request').get('input'),\n",
    "        'response_output' : log.get('response').get('output')\n",
    "    }\n",
    "    counter_while = 0\n",
    "    change_counter = 1 \n",
    "\n",
    "    while change_counter != 0:\n",
    "        if counter_while == 0:\n",
    "            new_data, change_counter = json_expander(base_dict=temp)\n",
    "            counter_while += 1\n",
    "        else: \n",
    "            new_data, change_counter = json_expander(base_dict=new_data)\n",
    "\n",
    "    temp_df = pd.DataFrame([new_data])\n",
    "    #print(temp_df['input_source_id'][0])\n",
    "\n",
    "    df_logs = pd.concat([df_logs, temp_df], ignore_index=True)\n",
    "\n",
    "    \n"
   ]
  },
  {
   "cell_type": "code",
   "execution_count": null,
   "metadata": {},
   "outputs": [],
   "source": [
    "all_logs[0].keys()"
   ]
  },
  {
   "cell_type": "code",
   "execution_count": null,
   "metadata": {},
   "outputs": [],
   "source": [
    "for k in all_logs[0].keys():\n",
    "    print(k)"
   ]
  },
  {
   "cell_type": "code",
   "execution_count": null,
   "metadata": {},
   "outputs": [],
   "source": [
    "all_logs[500].get('request').get('input')"
   ]
  },
  {
   "cell_type": "code",
   "execution_count": null,
   "metadata": {},
   "outputs": [],
   "source": [
    "all_logs[0].get('request').get('input').keys()"
   ]
  },
  {
   "cell_type": "code",
   "execution_count": 14,
   "metadata": {},
   "outputs": [
    {
     "data": {
      "text/html": [
       "<div>\n",
       "<style scoped>\n",
       "    .dataframe tbody tr th:only-of-type {\n",
       "        vertical-align: middle;\n",
       "    }\n",
       "\n",
       "    .dataframe tbody tr th {\n",
       "        vertical-align: top;\n",
       "    }\n",
       "\n",
       "    .dataframe thead th {\n",
       "        text-align: right;\n",
       "    }\n",
       "</style>\n",
       "<table border=\"1\" class=\"dataframe\">\n",
       "  <thead>\n",
       "    <tr style=\"text-align: right;\">\n",
       "      <th></th>\n",
       "      <th>log_id</th>\n",
       "      <th>request_timestamp</th>\n",
       "      <th>response_timestamp</th>\n",
       "      <th>assistant_id</th>\n",
       "      <th>session_id</th>\n",
       "      <th>customer_id</th>\n",
       "      <th>skill_id</th>\n",
       "      <th>request_input_message_type</th>\n",
       "      <th>request_input_source_id</th>\n",
       "      <th>request_input_source_type</th>\n",
       "      <th>...</th>\n",
       "      <th>response_output_debug_turn_events_action_variables_step_917_result_1_body_result</th>\n",
       "      <th>response_output_debug_turn_events_action_variables_step_917_result_1_body_total</th>\n",
       "      <th>response_output_debug_log_messages_values</th>\n",
       "      <th>response_output_log_messages_values</th>\n",
       "      <th>response_output_debug_turn_events_action_variables_step_412_result_1_body_result</th>\n",
       "      <th>response_output_debug_turn_events_action_variables_step_412_result_1_body_total</th>\n",
       "      <th>response_output_debug_turn_events_action_variables_step_952_result_1_body</th>\n",
       "      <th>request_input_internal_callout_request_body_invoice_number</th>\n",
       "      <th>response_output_debug_turn_events_action_variables_step_903_result_1_body_message</th>\n",
       "      <th>response_output_debug_turn_events_action_variables_step_954_result_1_body_message</th>\n",
       "    </tr>\n",
       "  </thead>\n",
       "  <tbody>\n",
       "    <tr>\n",
       "      <th>0</th>\n",
       "      <td>0b94e98b-8408-42e0-b60d-91a50e70ba00</td>\n",
       "      <td>2024-01-27 23:44:44.232</td>\n",
       "      <td>2024-01-27 23:44:44.599</td>\n",
       "      <td>572332fa-74b2-4e42-9c4d-93c891106824</td>\n",
       "      <td>0003df44-f463-4ca8-a6b3-432491ee1044</td>\n",
       "      <td>luis.toribio@ibm.com</td>\n",
       "      <td>5cbe6f41-8364-4f69-9e0a-1e7891cdde76</td>\n",
       "      <td>text</td>\n",
       "      <td>luis.toribio@ibm.com</td>\n",
       "      <td>user</td>\n",
       "      <td>...</td>\n",
       "      <td>NaN</td>\n",
       "      <td>NaN</td>\n",
       "      <td>NaN</td>\n",
       "      <td>NaN</td>\n",
       "      <td>NaN</td>\n",
       "      <td>NaN</td>\n",
       "      <td>NaN</td>\n",
       "      <td>NaN</td>\n",
       "      <td>NaN</td>\n",
       "      <td>NaN</td>\n",
       "    </tr>\n",
       "    <tr>\n",
       "      <th>1</th>\n",
       "      <td>8288abce-2c3d-4644-834c-6b4a18371c45</td>\n",
       "      <td>2024-01-27 23:44:48.870</td>\n",
       "      <td>2024-01-27 23:44:49.081</td>\n",
       "      <td>572332fa-74b2-4e42-9c4d-93c891106824</td>\n",
       "      <td>0003df44-f463-4ca8-a6b3-432491ee1044</td>\n",
       "      <td>luis.toribio@ibm.com</td>\n",
       "      <td>5cbe6f41-8364-4f69-9e0a-1e7891cdde76</td>\n",
       "      <td>text</td>\n",
       "      <td>luis.toribio@ibm.com</td>\n",
       "      <td>user</td>\n",
       "      <td>...</td>\n",
       "      <td>NaN</td>\n",
       "      <td>NaN</td>\n",
       "      <td>NaN</td>\n",
       "      <td>NaN</td>\n",
       "      <td>NaN</td>\n",
       "      <td>NaN</td>\n",
       "      <td>NaN</td>\n",
       "      <td>NaN</td>\n",
       "      <td>NaN</td>\n",
       "      <td>NaN</td>\n",
       "    </tr>\n",
       "    <tr>\n",
       "      <th>2</th>\n",
       "      <td>60da6908-8b43-4322-bea8-71dd94aeb02d</td>\n",
       "      <td>2024-01-27 23:44:52.276</td>\n",
       "      <td>2024-01-27 23:44:52.570</td>\n",
       "      <td>572332fa-74b2-4e42-9c4d-93c891106824</td>\n",
       "      <td>0003df44-f463-4ca8-a6b3-432491ee1044</td>\n",
       "      <td>luis.toribio@ibm.com</td>\n",
       "      <td>5cbe6f41-8364-4f69-9e0a-1e7891cdde76</td>\n",
       "      <td>text</td>\n",
       "      <td>luis.toribio@ibm.com</td>\n",
       "      <td>user</td>\n",
       "      <td>...</td>\n",
       "      <td>NaN</td>\n",
       "      <td>NaN</td>\n",
       "      <td>NaN</td>\n",
       "      <td>NaN</td>\n",
       "      <td>NaN</td>\n",
       "      <td>NaN</td>\n",
       "      <td>NaN</td>\n",
       "      <td>NaN</td>\n",
       "      <td>NaN</td>\n",
       "      <td>NaN</td>\n",
       "    </tr>\n",
       "    <tr>\n",
       "      <th>3</th>\n",
       "      <td>f2964c47-074a-45ad-8c19-eb760be9e2fa</td>\n",
       "      <td>2024-01-27 23:44:56.715</td>\n",
       "      <td>2024-01-27 23:44:56.962</td>\n",
       "      <td>572332fa-74b2-4e42-9c4d-93c891106824</td>\n",
       "      <td>0003df44-f463-4ca8-a6b3-432491ee1044</td>\n",
       "      <td>luis.toribio@ibm.com</td>\n",
       "      <td>5cbe6f41-8364-4f69-9e0a-1e7891cdde76</td>\n",
       "      <td>text</td>\n",
       "      <td>luis.toribio@ibm.com</td>\n",
       "      <td>user</td>\n",
       "      <td>...</td>\n",
       "      <td>NaN</td>\n",
       "      <td>NaN</td>\n",
       "      <td>NaN</td>\n",
       "      <td>NaN</td>\n",
       "      <td>NaN</td>\n",
       "      <td>NaN</td>\n",
       "      <td>NaN</td>\n",
       "      <td>NaN</td>\n",
       "      <td>NaN</td>\n",
       "      <td>NaN</td>\n",
       "    </tr>\n",
       "    <tr>\n",
       "      <th>4</th>\n",
       "      <td>a1a4b9e9-8fb8-45d3-bcce-b302dc2f5763</td>\n",
       "      <td>2024-01-27 23:45:02.785</td>\n",
       "      <td>2024-01-27 23:45:03.027</td>\n",
       "      <td>572332fa-74b2-4e42-9c4d-93c891106824</td>\n",
       "      <td>0003df44-f463-4ca8-a6b3-432491ee1044</td>\n",
       "      <td>luis.toribio@ibm.com</td>\n",
       "      <td>5cbe6f41-8364-4f69-9e0a-1e7891cdde76</td>\n",
       "      <td>text</td>\n",
       "      <td>luis.toribio@ibm.com</td>\n",
       "      <td>user</td>\n",
       "      <td>...</td>\n",
       "      <td>NaN</td>\n",
       "      <td>NaN</td>\n",
       "      <td>NaN</td>\n",
       "      <td>NaN</td>\n",
       "      <td>NaN</td>\n",
       "      <td>NaN</td>\n",
       "      <td>NaN</td>\n",
       "      <td>NaN</td>\n",
       "      <td>NaN</td>\n",
       "      <td>NaN</td>\n",
       "    </tr>\n",
       "  </tbody>\n",
       "</table>\n",
       "<p>5 rows × 208 columns</p>\n",
       "</div>"
      ],
      "text/plain": [
       "                                 log_id       request_timestamp  \\\n",
       "0  0b94e98b-8408-42e0-b60d-91a50e70ba00 2024-01-27 23:44:44.232   \n",
       "1  8288abce-2c3d-4644-834c-6b4a18371c45 2024-01-27 23:44:48.870   \n",
       "2  60da6908-8b43-4322-bea8-71dd94aeb02d 2024-01-27 23:44:52.276   \n",
       "3  f2964c47-074a-45ad-8c19-eb760be9e2fa 2024-01-27 23:44:56.715   \n",
       "4  a1a4b9e9-8fb8-45d3-bcce-b302dc2f5763 2024-01-27 23:45:02.785   \n",
       "\n",
       "       response_timestamp                          assistant_id  \\\n",
       "0 2024-01-27 23:44:44.599  572332fa-74b2-4e42-9c4d-93c891106824   \n",
       "1 2024-01-27 23:44:49.081  572332fa-74b2-4e42-9c4d-93c891106824   \n",
       "2 2024-01-27 23:44:52.570  572332fa-74b2-4e42-9c4d-93c891106824   \n",
       "3 2024-01-27 23:44:56.962  572332fa-74b2-4e42-9c4d-93c891106824   \n",
       "4 2024-01-27 23:45:03.027  572332fa-74b2-4e42-9c4d-93c891106824   \n",
       "\n",
       "                             session_id           customer_id  \\\n",
       "0  0003df44-f463-4ca8-a6b3-432491ee1044  luis.toribio@ibm.com   \n",
       "1  0003df44-f463-4ca8-a6b3-432491ee1044  luis.toribio@ibm.com   \n",
       "2  0003df44-f463-4ca8-a6b3-432491ee1044  luis.toribio@ibm.com   \n",
       "3  0003df44-f463-4ca8-a6b3-432491ee1044  luis.toribio@ibm.com   \n",
       "4  0003df44-f463-4ca8-a6b3-432491ee1044  luis.toribio@ibm.com   \n",
       "\n",
       "                               skill_id request_input_message_type  \\\n",
       "0  5cbe6f41-8364-4f69-9e0a-1e7891cdde76                       text   \n",
       "1  5cbe6f41-8364-4f69-9e0a-1e7891cdde76                       text   \n",
       "2  5cbe6f41-8364-4f69-9e0a-1e7891cdde76                       text   \n",
       "3  5cbe6f41-8364-4f69-9e0a-1e7891cdde76                       text   \n",
       "4  5cbe6f41-8364-4f69-9e0a-1e7891cdde76                       text   \n",
       "\n",
       "  request_input_source_id request_input_source_type  ...  \\\n",
       "0    luis.toribio@ibm.com                      user  ...   \n",
       "1    luis.toribio@ibm.com                      user  ...   \n",
       "2    luis.toribio@ibm.com                      user  ...   \n",
       "3    luis.toribio@ibm.com                      user  ...   \n",
       "4    luis.toribio@ibm.com                      user  ...   \n",
       "\n",
       "  response_output_debug_turn_events_action_variables_step_917_result_1_body_result  \\\n",
       "0                                                NaN                                 \n",
       "1                                                NaN                                 \n",
       "2                                                NaN                                 \n",
       "3                                                NaN                                 \n",
       "4                                                NaN                                 \n",
       "\n",
       "  response_output_debug_turn_events_action_variables_step_917_result_1_body_total  \\\n",
       "0                                                NaN                                \n",
       "1                                                NaN                                \n",
       "2                                                NaN                                \n",
       "3                                                NaN                                \n",
       "4                                                NaN                                \n",
       "\n",
       "  response_output_debug_log_messages_values  \\\n",
       "0                                       NaN   \n",
       "1                                       NaN   \n",
       "2                                       NaN   \n",
       "3                                       NaN   \n",
       "4                                       NaN   \n",
       "\n",
       "  response_output_log_messages_values  \\\n",
       "0                                 NaN   \n",
       "1                                 NaN   \n",
       "2                                 NaN   \n",
       "3                                 NaN   \n",
       "4                                 NaN   \n",
       "\n",
       "  response_output_debug_turn_events_action_variables_step_412_result_1_body_result  \\\n",
       "0                                                NaN                                 \n",
       "1                                                NaN                                 \n",
       "2                                                NaN                                 \n",
       "3                                                NaN                                 \n",
       "4                                                NaN                                 \n",
       "\n",
       "  response_output_debug_turn_events_action_variables_step_412_result_1_body_total  \\\n",
       "0                                                NaN                                \n",
       "1                                                NaN                                \n",
       "2                                                NaN                                \n",
       "3                                                NaN                                \n",
       "4                                                NaN                                \n",
       "\n",
       "  response_output_debug_turn_events_action_variables_step_952_result_1_body  \\\n",
       "0                                                NaN                          \n",
       "1                                                NaN                          \n",
       "2                                                NaN                          \n",
       "3                                                NaN                          \n",
       "4                                                NaN                          \n",
       "\n",
       "  request_input_internal_callout_request_body_invoice_number  \\\n",
       "0                                                NaN           \n",
       "1                                                NaN           \n",
       "2                                                NaN           \n",
       "3                                                NaN           \n",
       "4                                                NaN           \n",
       "\n",
       "  response_output_debug_turn_events_action_variables_step_903_result_1_body_message  \\\n",
       "0                                                NaN                                  \n",
       "1                                                NaN                                  \n",
       "2                                                NaN                                  \n",
       "3                                                NaN                                  \n",
       "4                                                NaN                                  \n",
       "\n",
       "  response_output_debug_turn_events_action_variables_step_954_result_1_body_message  \n",
       "0                                                NaN                                 \n",
       "1                                                NaN                                 \n",
       "2                                                NaN                                 \n",
       "3                                                NaN                                 \n",
       "4                                                NaN                                 \n",
       "\n",
       "[5 rows x 208 columns]"
      ]
     },
     "execution_count": 14,
     "metadata": {},
     "output_type": "execute_result"
    }
   ],
   "source": [
    "df_logs['request_timestamp'] = pd.to_datetime(df_logs['request_timestamp'], utc=False)#.dt.floor('ms')\n",
    "df_logs['request_timestamp'] = df_logs['request_timestamp'].dt.tz_localize(None)\n",
    "df_logs['response_timestamp'] = pd.to_datetime(df_logs['response_timestamp'], utc=False)#.dt.floor('ms')\n",
    "df_logs['response_timestamp'] = df_logs['response_timestamp'].dt.tz_localize(None)\n",
    "df_logs.sort_values(inplace=True, by=['session_id', 'request_timestamp'], ascending=[True, True])\n",
    "df_logs.reset_index(inplace=True, drop=True)\n",
    "df_logs.head()"
   ]
  },
  {
   "cell_type": "code",
   "execution_count": null,
   "metadata": {},
   "outputs": [],
   "source": [
    "df_logs.columns"
   ]
  },
  {
   "cell_type": "code",
   "execution_count": null,
   "metadata": {},
   "outputs": [],
   "source": [
    "df_logs.to_csv('df_logs.csv', index=False, sep='|')\n",
    "#df_logs.to_parquet('df_logs.gzip', index=False, compression='gzip')"
   ]
  },
  {
   "cell_type": "code",
   "execution_count": null,
   "metadata": {},
   "outputs": [],
   "source": [
    "!pip install openpyxl"
   ]
  },
  {
   "cell_type": "code",
   "execution_count": 15,
   "metadata": {},
   "outputs": [],
   "source": [
    "df_logs.to_excel('df_logs.xlsx', index=False)"
   ]
  },
  {
   "cell_type": "code",
   "execution_count": null,
   "metadata": {},
   "outputs": [],
   "source": [
    "all_logs[9000].keys()"
   ]
  },
  {
   "cell_type": "code",
   "execution_count": null,
   "metadata": {},
   "outputs": [],
   "source": [
    "all_logs[9001].get('customer_id')"
   ]
  },
  {
   "cell_type": "code",
   "execution_count": null,
   "metadata": {},
   "outputs": [],
   "source": [
    "all_logs[9000].get('request').get('input')"
   ]
  },
  {
   "cell_type": "code",
   "execution_count": null,
   "metadata": {},
   "outputs": [],
   "source": [
    "all_logs[9000].get('response').get('output')"
   ]
  },
  {
   "cell_type": "code",
   "execution_count": null,
   "metadata": {},
   "outputs": [],
   "source": [
    "logs_draft = assistant.list_logs(assistant_id=ASSISTANT_ENV_ID)"
   ]
  },
  {
   "cell_type": "code",
   "execution_count": null,
   "metadata": {},
   "outputs": [],
   "source": [
    "# saving the logs data in a variable\n",
    "logs_results_data = logs_draft.get_result()"
   ]
  },
  {
   "cell_type": "code",
   "execution_count": null,
   "metadata": {},
   "outputs": [],
   "source": [
    "# what keys do we have in the dictionay ? \n",
    "logs_results_data.keys()"
   ]
  },
  {
   "cell_type": "code",
   "execution_count": null,
   "metadata": {},
   "outputs": [],
   "source": [
    "logs_results_data['pagination']"
   ]
  },
  {
   "cell_type": "code",
   "execution_count": null,
   "metadata": {},
   "outputs": [],
   "source": [
    "len(logs_results_data['logs'])"
   ]
  },
  {
   "cell_type": "code",
   "execution_count": null,
   "metadata": {},
   "outputs": [],
   "source": [
    "#log results (only one element of the log list)\n",
    "logs_results_data['logs']"
   ]
  }
 ],
 "metadata": {
  "kernelspec": {
   "display_name": "p311_watsonx_gallery_sql",
   "language": "python",
   "name": "python3"
  },
  "language_info": {
   "codemirror_mode": {
    "name": "ipython",
    "version": 3
   },
   "file_extension": ".py",
   "mimetype": "text/x-python",
   "name": "python",
   "nbconvert_exporter": "python",
   "pygments_lexer": "ipython3",
   "version": "3.11.5"
  }
 },
 "nbformat": 4,
 "nbformat_minor": 2
}
