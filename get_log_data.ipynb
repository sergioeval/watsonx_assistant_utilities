{
 "cells": [
  {
   "cell_type": "markdown",
   "metadata": {},
   "source": [
    "# API documentation \n",
    "https://cloud.ibm.com/apidocs/assistant-v2?code=python#listassistants\n"
   ]
  },
  {
   "cell_type": "code",
   "execution_count": 21,
   "metadata": {},
   "outputs": [
    {
     "data": {
      "text/plain": [
       "True"
      ]
     },
     "execution_count": 21,
     "metadata": {},
     "output_type": "execute_result"
    }
   ],
   "source": [
    "import pprint\n",
    "from dotenv import load_dotenv\n",
    "import os\n",
    "import json\n",
    "from ibm_watson import AssistantV2\n",
    "from ibm_cloud_sdk_core.authenticators import IAMAuthenticator\n",
    "import pandas as pd\n",
    "\n",
    "\n",
    "load_dotenv()"
   ]
  },
  {
   "cell_type": "markdown",
   "metadata": {},
   "source": [
    "# API assistant setup"
   ]
  },
  {
   "cell_type": "code",
   "execution_count": 2,
   "metadata": {},
   "outputs": [],
   "source": [
    "API_KEY = os.getenv(key='API_KEY')\n",
    "URL = 'https://api.us-east.assistant.watson.cloud.ibm.com/'\n",
    "ASSISTANT_NAME = 'Ask_Proc_Main'"
   ]
  },
  {
   "cell_type": "code",
   "execution_count": 3,
   "metadata": {},
   "outputs": [],
   "source": [
    "\n",
    "authenticator = IAMAuthenticator(API_KEY)\n",
    "assistant = AssistantV2(\n",
    "    version='2021-06-14',\n",
    "    authenticator = authenticator\n",
    ")\n",
    "\n",
    "assistant.set_service_url(URL)"
   ]
  },
  {
   "cell_type": "markdown",
   "metadata": {},
   "source": [
    "# Get List of assistants available\n",
    "\n",
    "This will give you all the assistants that are available in that instance in IBM cloud. "
   ]
  },
  {
   "cell_type": "code",
   "execution_count": 4,
   "metadata": {},
   "outputs": [],
   "source": [
    "assistants_list = assistant.list_assistants()"
   ]
  },
  {
   "cell_type": "code",
   "execution_count": 5,
   "metadata": {},
   "outputs": [
    {
     "name": "stdout",
     "output_type": "stream",
     "text": [
      "{'assistant_environments': [{'environment': 'draft',\n",
      "                             'environment_id': '572332fa-74b2-4e42-9c4d-93c891106824',\n",
      "                             'name': 'draft'},\n",
      "                            {'environment': 'live',\n",
      "                             'environment_id': '646fce51-a4ec-4bc8-8928-ef4eb222a59a',\n",
      "                             'name': 'live'}],\n",
      " 'assistant_id': '9dcbdb4b-f743-4a96-b20b-51f80f9ec4d7',\n",
      " 'assistant_skills': [{'skill_id': '79fa487e-fc14-4f85-89b9-8f00c88f0ff7',\n",
      "                       'type': 'dialog'},\n",
      "                      {'skill_id': '5cbe6f41-8364-4f69-9e0a-1e7891cdde76',\n",
      "                       'type': 'action'}],\n",
      " 'description': 'Main Assistant for Ask Procurement',\n",
      " 'language': 'en',\n",
      " 'multi_lingual': {'enabled': False},\n",
      " 'name': 'Ask_Proc_Main'}\n",
      "\n",
      "\n",
      "Your assistant id is: 9dcbdb4b-f743-4a96-b20b-51f80f9ec4d7\n"
     ]
    }
   ],
   "source": [
    "for bot in assistants_list.get_result().get('assistants'):\n",
    "    if bot.get('name') == ASSISTANT_NAME:\n",
    "        ASSISTANT_ID = bot.get('assistant_id')\n",
    "        pprint.pprint(bot)\n",
    "\n",
    "print(f'\\n\\nYour assistant id is: {ASSISTANT_ID}')"
   ]
  },
  {
   "cell_type": "code",
   "execution_count": 6,
   "metadata": {},
   "outputs": [],
   "source": [
    "# here you can define the assistant environment to get the logs from \n",
    "ASSISTANT_ENV_ID = '572332fa-74b2-4e42-9c4d-93c891106824'"
   ]
  },
  {
   "cell_type": "markdown",
   "metadata": {},
   "source": [
    "# Get log data "
   ]
  },
  {
   "cell_type": "code",
   "execution_count": 7,
   "metadata": {},
   "outputs": [
    {
     "name": "stdout",
     "output_type": "stream",
     "text": [
      "working on page 1\n",
      "working on page 2\n",
      "working on page 3\n",
      "working on page 4\n",
      "working on page 5\n",
      "working on page 6\n",
      "working on page 7\n",
      "working on page 8\n",
      "working on page 9\n",
      "working on page 10\n",
      "working on page 11\n",
      "working on page 12\n",
      "working on page 13\n",
      "working on page 14\n",
      "working on page 15\n",
      "working on page 16\n",
      "working on page 17\n",
      "working on page 18\n",
      "working on page 19\n",
      "working on page 20\n",
      "working on page 21\n",
      "working on page 22\n",
      "working on page 23\n",
      "working on page 24\n",
      "working on page 25\n",
      "working on page 26\n",
      "working on page 27\n",
      "working on page 28\n",
      "working on page 29\n",
      "working on page 30\n",
      "working on page 31\n",
      "working on page 32\n",
      "working on page 33\n",
      "working on page 34\n",
      "working on page 35\n",
      "working on page 36\n",
      "working on page 37\n",
      "working on page 38\n",
      "working on page 39\n",
      "working on page 40\n",
      "working on page 41\n",
      "working on page 42\n",
      "working on page 43\n",
      "working on page 44\n",
      "working on page 45\n",
      "working on page 46\n",
      "working on page 47\n",
      "working on page 48\n",
      "working on page 49\n",
      "working on page 50\n",
      "working on page 51\n",
      "working on page 52\n",
      "working on page 53\n",
      "working on page 54\n",
      "working on page 55\n",
      "working on page 56\n",
      "working on page 57\n",
      "working on page 58\n",
      "working on page 59\n",
      "working on page 60\n",
      "working on page 61\n",
      "working on page 62\n",
      "working on page 63\n",
      "working on page 64\n",
      "working on page 65\n",
      "working on page 66\n",
      "working on page 67\n",
      "working on page 68\n",
      "working on page 69\n",
      "working on page 70\n",
      "working on page 71\n",
      "working on page 72\n",
      "working on page 73\n",
      "working on page 74\n",
      "working on page 75\n",
      "working on page 76\n",
      "working on page 77\n",
      "working on page 78\n",
      "working on page 79\n",
      "working on page 80\n",
      "working on page 81\n",
      "working on page 82\n",
      "working on page 83\n",
      "working on page 84\n",
      "working on page 85\n",
      "working on page 86\n",
      "working on page 87\n",
      "working on page 88\n",
      "working on page 89\n",
      "working on page 90\n",
      "working on page 91\n",
      "working on page 92\n"
     ]
    }
   ],
   "source": [
    "# to get all the logs \n",
    "cursor = None\n",
    "page = 1\n",
    "\n",
    "all_logs = []\n",
    "\n",
    "while True:\n",
    "    print(f'working on page {page}')\n",
    "    page += 1\n",
    "    response=assistant.list_logs(\n",
    "        assistant_id=ASSISTANT_ENV_ID,\n",
    "        cursor=cursor,\n",
    "    ).get_result()\n",
    "\n",
    "    all_logs.extend(response['logs'])\n",
    "\n",
    "    cursor=response.get('pagination').get('next_cursor')\n",
    "    if not cursor:\n",
    "        break"
   ]
  },
  {
   "cell_type": "code",
   "execution_count": 8,
   "metadata": {},
   "outputs": [
    {
     "data": {
      "text/plain": [
       "9144"
      ]
     },
     "execution_count": 8,
     "metadata": {},
     "output_type": "execute_result"
    }
   ],
   "source": [
    "len(all_logs)"
   ]
  },
  {
   "cell_type": "markdown",
   "metadata": {},
   "source": [
    "# How to save logs in able or csv "
   ]
  },
  {
   "cell_type": "code",
   "execution_count": 52,
   "metadata": {},
   "outputs": [],
   "source": [
    "df_logs = pd.DataFrame()\n",
    "\n",
    "for log in all_logs: \n",
    "    temp = {\n",
    "        'log_id' : log.get('log_id'),\n",
    "        'request_timestamp' : log.get('request_timestamp'),\n",
    "        'response_timestamp' : log.get('response_timestamp'),\n",
    "        'assistant_id' : log.get('assistant_id'),\n",
    "        'session_id' : log.get('session_id'),\n",
    "        'customer_id' : log.get('customer_id'),\n",
    "        'skill_id' : log.get('skill_id'),\n",
    "        'request_input' : log.get('request').get('input'),\n",
    "        'response_output' : log.get('response').get('output')\n",
    "    }\n",
    "    temp_df = pd.DataFrame([temp])\n",
    "    df_logs = pd.concat([df_logs, temp_df], ignore_index=True)\n",
    "    \n"
   ]
  },
  {
   "cell_type": "code",
   "execution_count": 59,
   "metadata": {},
   "outputs": [
    {
     "data": {
      "text/html": [
       "<div>\n",
       "<style scoped>\n",
       "    .dataframe tbody tr th:only-of-type {\n",
       "        vertical-align: middle;\n",
       "    }\n",
       "\n",
       "    .dataframe tbody tr th {\n",
       "        vertical-align: top;\n",
       "    }\n",
       "\n",
       "    .dataframe thead th {\n",
       "        text-align: right;\n",
       "    }\n",
       "</style>\n",
       "<table border=\"1\" class=\"dataframe\">\n",
       "  <thead>\n",
       "    <tr style=\"text-align: right;\">\n",
       "      <th></th>\n",
       "      <th>log_id</th>\n",
       "      <th>request_timestamp</th>\n",
       "      <th>response_timestamp</th>\n",
       "      <th>assistant_id</th>\n",
       "      <th>session_id</th>\n",
       "      <th>customer_id</th>\n",
       "      <th>skill_id</th>\n",
       "      <th>request_input</th>\n",
       "      <th>response_output</th>\n",
       "    </tr>\n",
       "  </thead>\n",
       "  <tbody>\n",
       "    <tr>\n",
       "      <th>0</th>\n",
       "      <td>0b94e98b-8408-42e0-b60d-91a50e70ba00</td>\n",
       "      <td>2024-01-27 23:44:44.232000+00:00</td>\n",
       "      <td>2024-01-27 23:44:44.599000+00:00</td>\n",
       "      <td>572332fa-74b2-4e42-9c4d-93c891106824</td>\n",
       "      <td>0003df44-f463-4ca8-a6b3-432491ee1044</td>\n",
       "      <td>luis.toribio@ibm.com</td>\n",
       "      <td>5cbe6f41-8364-4f69-9e0a-1e7891cdde76</td>\n",
       "      <td>{'options': {'alternate_responses': True, 'deb...</td>\n",
       "      <td>{'intents': [], 'debug': {'auto_learn': {'repo...</td>\n",
       "    </tr>\n",
       "    <tr>\n",
       "      <th>1</th>\n",
       "      <td>8288abce-2c3d-4644-834c-6b4a18371c45</td>\n",
       "      <td>2024-01-27 23:44:48.870000+00:00</td>\n",
       "      <td>2024-01-27 23:44:49.081000+00:00</td>\n",
       "      <td>572332fa-74b2-4e42-9c4d-93c891106824</td>\n",
       "      <td>0003df44-f463-4ca8-a6b3-432491ee1044</td>\n",
       "      <td>luis.toribio@ibm.com</td>\n",
       "      <td>5cbe6f41-8364-4f69-9e0a-1e7891cdde76</td>\n",
       "      <td>{'options': {'alternate_responses': True, 'deb...</td>\n",
       "      <td>{'alternate_responses': [{'response_type': 'su...</td>\n",
       "    </tr>\n",
       "    <tr>\n",
       "      <th>2</th>\n",
       "      <td>60da6908-8b43-4322-bea8-71dd94aeb02d</td>\n",
       "      <td>2024-01-27 23:44:52.276000+00:00</td>\n",
       "      <td>2024-01-27 23:44:52.570000+00:00</td>\n",
       "      <td>572332fa-74b2-4e42-9c4d-93c891106824</td>\n",
       "      <td>0003df44-f463-4ca8-a6b3-432491ee1044</td>\n",
       "      <td>luis.toribio@ibm.com</td>\n",
       "      <td>5cbe6f41-8364-4f69-9e0a-1e7891cdde76</td>\n",
       "      <td>{'options': {'alternate_responses': True, 'deb...</td>\n",
       "      <td>{'intents': [{'confidence': 0.5891225934028625...</td>\n",
       "    </tr>\n",
       "    <tr>\n",
       "      <th>3</th>\n",
       "      <td>f2964c47-074a-45ad-8c19-eb760be9e2fa</td>\n",
       "      <td>2024-01-27 23:44:56.715000+00:00</td>\n",
       "      <td>2024-01-27 23:44:56.962000+00:00</td>\n",
       "      <td>572332fa-74b2-4e42-9c4d-93c891106824</td>\n",
       "      <td>0003df44-f463-4ca8-a6b3-432491ee1044</td>\n",
       "      <td>luis.toribio@ibm.com</td>\n",
       "      <td>5cbe6f41-8364-4f69-9e0a-1e7891cdde76</td>\n",
       "      <td>{'options': {'alternate_responses': True, 'deb...</td>\n",
       "      <td>{'intents': [{'confidence': 0.839313805103302,...</td>\n",
       "    </tr>\n",
       "    <tr>\n",
       "      <th>4</th>\n",
       "      <td>a1a4b9e9-8fb8-45d3-bcce-b302dc2f5763</td>\n",
       "      <td>2024-01-27 23:45:02.785000+00:00</td>\n",
       "      <td>2024-01-27 23:45:03.027000+00:00</td>\n",
       "      <td>572332fa-74b2-4e42-9c4d-93c891106824</td>\n",
       "      <td>0003df44-f463-4ca8-a6b3-432491ee1044</td>\n",
       "      <td>luis.toribio@ibm.com</td>\n",
       "      <td>5cbe6f41-8364-4f69-9e0a-1e7891cdde76</td>\n",
       "      <td>{'options': {'alternate_responses': True, 'deb...</td>\n",
       "      <td>{'intents': [{'confidence': 0.3394498527050018...</td>\n",
       "    </tr>\n",
       "  </tbody>\n",
       "</table>\n",
       "</div>"
      ],
      "text/plain": [
       "                                 log_id                request_timestamp  \\\n",
       "0  0b94e98b-8408-42e0-b60d-91a50e70ba00 2024-01-27 23:44:44.232000+00:00   \n",
       "1  8288abce-2c3d-4644-834c-6b4a18371c45 2024-01-27 23:44:48.870000+00:00   \n",
       "2  60da6908-8b43-4322-bea8-71dd94aeb02d 2024-01-27 23:44:52.276000+00:00   \n",
       "3  f2964c47-074a-45ad-8c19-eb760be9e2fa 2024-01-27 23:44:56.715000+00:00   \n",
       "4  a1a4b9e9-8fb8-45d3-bcce-b302dc2f5763 2024-01-27 23:45:02.785000+00:00   \n",
       "\n",
       "                response_timestamp                          assistant_id  \\\n",
       "0 2024-01-27 23:44:44.599000+00:00  572332fa-74b2-4e42-9c4d-93c891106824   \n",
       "1 2024-01-27 23:44:49.081000+00:00  572332fa-74b2-4e42-9c4d-93c891106824   \n",
       "2 2024-01-27 23:44:52.570000+00:00  572332fa-74b2-4e42-9c4d-93c891106824   \n",
       "3 2024-01-27 23:44:56.962000+00:00  572332fa-74b2-4e42-9c4d-93c891106824   \n",
       "4 2024-01-27 23:45:03.027000+00:00  572332fa-74b2-4e42-9c4d-93c891106824   \n",
       "\n",
       "                             session_id           customer_id  \\\n",
       "0  0003df44-f463-4ca8-a6b3-432491ee1044  luis.toribio@ibm.com   \n",
       "1  0003df44-f463-4ca8-a6b3-432491ee1044  luis.toribio@ibm.com   \n",
       "2  0003df44-f463-4ca8-a6b3-432491ee1044  luis.toribio@ibm.com   \n",
       "3  0003df44-f463-4ca8-a6b3-432491ee1044  luis.toribio@ibm.com   \n",
       "4  0003df44-f463-4ca8-a6b3-432491ee1044  luis.toribio@ibm.com   \n",
       "\n",
       "                               skill_id  \\\n",
       "0  5cbe6f41-8364-4f69-9e0a-1e7891cdde76   \n",
       "1  5cbe6f41-8364-4f69-9e0a-1e7891cdde76   \n",
       "2  5cbe6f41-8364-4f69-9e0a-1e7891cdde76   \n",
       "3  5cbe6f41-8364-4f69-9e0a-1e7891cdde76   \n",
       "4  5cbe6f41-8364-4f69-9e0a-1e7891cdde76   \n",
       "\n",
       "                                       request_input  \\\n",
       "0  {'options': {'alternate_responses': True, 'deb...   \n",
       "1  {'options': {'alternate_responses': True, 'deb...   \n",
       "2  {'options': {'alternate_responses': True, 'deb...   \n",
       "3  {'options': {'alternate_responses': True, 'deb...   \n",
       "4  {'options': {'alternate_responses': True, 'deb...   \n",
       "\n",
       "                                     response_output  \n",
       "0  {'intents': [], 'debug': {'auto_learn': {'repo...  \n",
       "1  {'alternate_responses': [{'response_type': 'su...  \n",
       "2  {'intents': [{'confidence': 0.5891225934028625...  \n",
       "3  {'intents': [{'confidence': 0.839313805103302,...  \n",
       "4  {'intents': [{'confidence': 0.3394498527050018...  "
      ]
     },
     "execution_count": 59,
     "metadata": {},
     "output_type": "execute_result"
    }
   ],
   "source": [
    "df_logs['request_timestamp'] = pd.to_datetime(df_logs['request_timestamp']).dt.floor('ms')\n",
    "df_logs['response_timestamp'] = pd.to_datetime(df_logs['response_timestamp']).dt.floor('ms')\n",
    "df_logs.sort_values(inplace=True, by=['session_id', 'request_timestamp'], ascending=[True, True])\n",
    "df_logs.reset_index(inplace=True, drop=True)\n",
    "df_logs.head()"
   ]
  },
  {
   "cell_type": "code",
   "execution_count": 61,
   "metadata": {},
   "outputs": [],
   "source": [
    "df_logs.to_csv('df_logs.csv', index=False)\n",
    "#df_logs.to_parquet('df_logs.gzip', index=False, compression='gzip')"
   ]
  },
  {
   "cell_type": "code",
   "execution_count": null,
   "metadata": {},
   "outputs": [],
   "source": []
  },
  {
   "cell_type": "code",
   "execution_count": 15,
   "metadata": {},
   "outputs": [
    {
     "data": {
      "text/plain": [
       "dict_keys(['log_id', 'request', 'response_timestamp', 'assistant_id', 'request_timestamp', 'response', 'session_id', 'language', 'skill_id', 'customer_id'])"
      ]
     },
     "execution_count": 15,
     "metadata": {},
     "output_type": "execute_result"
    }
   ],
   "source": [
    "all_logs[9000].keys()"
   ]
  },
  {
   "cell_type": "code",
   "execution_count": 48,
   "metadata": {},
   "outputs": [
    {
     "data": {
      "text/plain": [
       "''"
      ]
     },
     "execution_count": 48,
     "metadata": {},
     "output_type": "execute_result"
    }
   ],
   "source": [
    "all_logs[9001].get('customer_id')"
   ]
  },
  {
   "cell_type": "code",
   "execution_count": 34,
   "metadata": {},
   "outputs": [
    {
     "data": {
      "text/plain": [
       "{'options': {'alternate_responses': True,\n",
       "  'debug': True,\n",
       "  'disambiguation': {'alternate_responses': True},\n",
       "  'async_callout': True,\n",
       "  'suggestion_only': False,\n",
       "  'return_context': True,\n",
       "  'export': True,\n",
       "  'skip_user_input': True},\n",
       " 'message_type': 'text',\n",
       " 'source': {'id': 'Hector.Rodriguez.Alvarez@ibm.com', 'type': 'user'},\n",
       " 'text': ''}"
      ]
     },
     "execution_count": 34,
     "metadata": {},
     "output_type": "execute_result"
    }
   ],
   "source": [
    "all_logs[9000].get('request').get('input')"
   ]
  },
  {
   "cell_type": "code",
   "execution_count": 46,
   "metadata": {},
   "outputs": [
    {
     "data": {
      "text/plain": [
       "{'intents': [],\n",
       " 'internal': {'callout': {'path': '/click_vendor_insights_spend_detail',\n",
       "   'result_variable': 'step_267_result_1',\n",
       "   'internal': {'catalog_item_id': '3c0f0249-cbcb-448e-bfa9-2482eed51d68',\n",
       "    'spec_hash_id': '1f4f904c10572aff695fc0b2c053edb0824a7b6b70d457f8ec6ac3a228607885'},\n",
       "   'is_result_variable_private': False,\n",
       "   'content_type': 'application/json',\n",
       "   'method': 'POST',\n",
       "   'request_mapping': {'body': [{'parameter': 'company_name',\n",
       "      'value': 'MICROSOFT'}]},\n",
       "   'type': 'integration_interaction'}},\n",
       " 'debug': {'auto_learn': {'reports': {'lists': {'auto_learn_mode': 'off'}}},\n",
       "  'log_messages': [],\n",
       "  'turn_events': [{'reason': 'run_always',\n",
       "    'action_start_time': '2024-02-07T15:44:39.904130992Z',\n",
       "    'source': {'action_title': 'Trigger word detected',\n",
       "     'action': 'run_always',\n",
       "     'type': 'action'},\n",
       "    'event': 'action_visited'},\n",
       "   {'action_variables': {},\n",
       "    'reason': 'no_steps_visited',\n",
       "    'action_start_time': '2024-02-07T15:44:39.904130992Z',\n",
       "    'source': {'action_title': 'Trigger word detected',\n",
       "     'action': 'run_always',\n",
       "     'type': 'action'},\n",
       "    'event': 'action_finished'},\n",
       "   {'reason': 'subaction_return',\n",
       "    'condition_type': 'user_defined',\n",
       "    'action_start_time': '2024-02-07T15:44:29.082686933Z',\n",
       "    'source': {'action_title': 'Spend- summary one click',\n",
       "     'action': 'action_27395-2',\n",
       "     'type': 'action'},\n",
       "    'event': 'action_visited'},\n",
       "   {'callout': {'result_variable': 'step_267_result_1',\n",
       "     'internal': {'catalog_item_id': '3c0f0249-cbcb-448e-bfa9-2482eed51d68'},\n",
       "     'type': 'integration_interaction'},\n",
       "    'source': {'action_title': 'Spend- summary one click',\n",
       "     'action': 'action_27395-2',\n",
       "     'step': 'step_267',\n",
       "     'type': 'step'},\n",
       "    'event': 'callout'}]},\n",
       " 'entities': [],\n",
       " 'log_messages': [],\n",
       " 'text': [],\n",
       " 'generic': []}"
      ]
     },
     "execution_count": 46,
     "metadata": {},
     "output_type": "execute_result"
    }
   ],
   "source": [
    "all_logs[9000].get('response').get('output')"
   ]
  },
  {
   "cell_type": "code",
   "execution_count": null,
   "metadata": {},
   "outputs": [],
   "source": [
    "logs_draft = assistant.list_logs(assistant_id=ASSISTANT_ENV_ID)"
   ]
  },
  {
   "cell_type": "code",
   "execution_count": null,
   "metadata": {},
   "outputs": [],
   "source": [
    "# saving the logs data in a variable\n",
    "logs_results_data = logs_draft.get_result()"
   ]
  },
  {
   "cell_type": "code",
   "execution_count": null,
   "metadata": {},
   "outputs": [],
   "source": [
    "# what keys do we have in the dictionay ? \n",
    "logs_results_data.keys()"
   ]
  },
  {
   "cell_type": "code",
   "execution_count": null,
   "metadata": {},
   "outputs": [],
   "source": [
    "logs_results_data['pagination']"
   ]
  },
  {
   "cell_type": "code",
   "execution_count": null,
   "metadata": {},
   "outputs": [],
   "source": [
    "len(logs_results_data['logs'])"
   ]
  },
  {
   "cell_type": "code",
   "execution_count": null,
   "metadata": {},
   "outputs": [],
   "source": [
    "#log results (only one element of the log list)\n",
    "logs_results_data['logs']"
   ]
  }
 ],
 "metadata": {
  "kernelspec": {
   "display_name": "p311_watsonx_gallery_sql",
   "language": "python",
   "name": "python3"
  },
  "language_info": {
   "codemirror_mode": {
    "name": "ipython",
    "version": 3
   },
   "file_extension": ".py",
   "mimetype": "text/x-python",
   "name": "python",
   "nbconvert_exporter": "python",
   "pygments_lexer": "ipython3",
   "version": "3.11.5"
  }
 },
 "nbformat": 4,
 "nbformat_minor": 2
}
