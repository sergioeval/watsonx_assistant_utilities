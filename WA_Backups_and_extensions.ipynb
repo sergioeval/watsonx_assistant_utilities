{
 "cells": [
  {
   "cell_type": "markdown",
   "metadata": {},
   "source": [
    "!pip install --upgrade \"ibm-watson>=7.0.1\""
   ]
  },
  {
   "cell_type": "markdown",
   "metadata": {},
   "source": [
    "# Description\n",
    "\n",
    "The goal of these notebook is to sucessfully download the actions and upload them witht he new Custom\n",
    "extension ids in case we modified them for some reason. \n",
    "\n"
   ]
  },
  {
   "cell_type": "code",
   "execution_count": null,
   "metadata": {},
   "outputs": [],
   "source": [
    "import pprint\n",
    "from dotenv import load_dotenv\n",
    "import os\n",
    "load_dotenv()"
   ]
  },
  {
   "cell_type": "markdown",
   "metadata": {},
   "source": [
    "# Assistant setup "
   ]
  },
  {
   "cell_type": "code",
   "execution_count": null,
   "metadata": {},
   "outputs": [],
   "source": [
    "URL = 'https://api.us-east.assistant.watson.cloud.ibm.com/'\n",
    "API_KEY = os.getenv(key='API_KEY')\n",
    "\n",
    "# put here the name of the assistant to replace extensions ids \n",
    "#ASSISTANT_NAME = 'Experiments_Ask_Proc_Main'\n",
    "\n",
    "CHANGE_LOG_DESCRIPTION = '''\n",
    "----- Process Description -----\n",
    "Copy all from Ask_Proc_Main to DEV_TEST\n",
    "\n",
    "----- Changes -----\n",
    "\n",
    "\n",
    "\n",
    "'''\n",
    "\n",
    "ASSISTANT_FROM = 'Ask_Proc_Main'\n",
    "ASSISTANT_TO = 'PREPROD_PROD_AskProc'\n",
    "\n",
    "BACKUP_FOLDER = 'assistant_backups/'\n",
    "\n",
    "ONLY_EPM_API_CHANGE = True\n",
    "\n",
    "MODIFY = [\n",
    "    {\n",
    "        'id_from': \"6c319007-41f4-4cce-8368-7a6d38905888\", #  epm ask_proc_main\n",
    "        'id_to': \"8acb5354-2e54-401a-805a-1e9927167311\" # epm_api_v21 ask_proc_main\n",
    "        },\n",
    "        {\n",
    "        'id_from': \"0710d532e446af11a39ab1c8d3d4b5281b94cfd91550eb8f2cf6d9ff669b3290\", #   epm ask_proc_main\n",
    "        'id_to': \"0710d532e446af11a39ab1c8d3d4b5281b94cfd91550eb8f2cf6d9ff669b3290\" # epm_api_v21 ask_proc_main\n",
    "        },\n",
    "        {\n",
    "        'id_from': \"2a9c63f0-5e9d-44a8-9c6e-92a5684030be\", #  watsonx ask_proc_main\n",
    "        'id_to': \"299017c6-1add-44c3-a5dd-8f7cb2eecb8a\" # watsonx ask_proc_main\n",
    "        },\n",
    "        {\n",
    "        'id_from': \"cc50493e455de183d661b95360196ddb468a02051add6dcaf4a6479b34900be5\", #   watsonx ask_proc_main\n",
    "        'id_to': \"cc50493e455de183d661b95360196ddb468a02051add6dcaf4a6479b34900be5\" # watsonx ask_proc_main\n",
    "        }\n",
    "]"
   ]
  },
  {
   "cell_type": "code",
   "execution_count": null,
   "metadata": {},
   "outputs": [],
   "source": [
    "# Auhentification \n",
    "import json\n",
    "from ibm_watson import AssistantV2\n",
    "from ibm_cloud_sdk_core.authenticators import IAMAuthenticator\n",
    "\n",
    "authenticator = IAMAuthenticator(API_KEY)\n",
    "assistant = AssistantV2(\n",
    "    version='2021-06-14',\n",
    "    authenticator = authenticator\n",
    ")\n",
    "\n",
    "assistant.set_service_url(URL)\n",
    "\n"
   ]
  },
  {
   "cell_type": "markdown",
   "metadata": {},
   "source": [
    "# Create folder for backup for data and logs "
   ]
  },
  {
   "cell_type": "code",
   "execution_count": null,
   "metadata": {},
   "outputs": [],
   "source": [
    "# get current datetime in string\n",
    "import datetime as dt\n",
    "date_name = dt.datetime.now().strftime(\"%Y-%m-%d_%H_%M_%S\")\n",
    "folder_name = date_name\n",
    "BACKUP_FOLDER = BACKUP_FOLDER+folder_name\n",
    "date_name"
   ]
  },
  {
   "cell_type": "code",
   "execution_count": null,
   "metadata": {},
   "outputs": [],
   "source": [
    "os.makedirs(BACKUP_FOLDER)"
   ]
  },
  {
   "cell_type": "code",
   "execution_count": null,
   "metadata": {},
   "outputs": [],
   "source": [
    "BACKUP_FOLDER"
   ]
  },
  {
   "cell_type": "code",
   "execution_count": null,
   "metadata": {},
   "outputs": [],
   "source": [
    "logs_path = BACKUP_FOLDER+'/CHANGE_LOG_DESCRIPTION.txt'\n",
    "with open(logs_path, mode='w') as f:\n",
    "    f.write(CHANGE_LOG_DESCRIPTION)\n",
    "    f.close()"
   ]
  },
  {
   "cell_type": "markdown",
   "metadata": {},
   "source": [
    "# Changes setup \n",
    "In our case we only have 2 custom expensions and only one is the most commun to have changes so that is why I have to flows \n",
    "One when I only want to change the ids for EPM api And other when I want to change epm and watsonx.ai ids \n"
   ]
  },
  {
   "cell_type": "markdown",
   "metadata": {},
   "source": [
    "# Getting the assistant ID using the assistant name"
   ]
  },
  {
   "cell_type": "code",
   "execution_count": null,
   "metadata": {},
   "outputs": [],
   "source": [
    "assistant_list = assistant.list_assistants()"
   ]
  },
  {
   "cell_type": "code",
   "execution_count": null,
   "metadata": {},
   "outputs": [],
   "source": [
    "# find your assistant by name \n",
    "\n",
    "\n",
    "for bot in assistant_list.get_result().get('assistants'):\n",
    "    if bot.get('name') == ASSISTANT_FROM:\n",
    "        ASSISTANT_FROM_ID = bot.get('assistant_id')\n",
    "        pprint.pprint(bot)\n",
    "    if bot.get('name') == ASSISTANT_TO:\n",
    "        ASSISTANT_TO_ID = bot.get('assistant_id')\n",
    "        pprint.pprint(bot)\n",
    "\n",
    "print(f'\\n\\nYour assistant FROM id is: {ASSISTANT_FROM_ID}')\n",
    "print(f'\\n\\nYour assistant TO id is: {ASSISTANT_TO_ID}')"
   ]
  },
  {
   "cell_type": "markdown",
   "metadata": {},
   "source": [
    "# Get the skills data from your assistant."
   ]
  },
  {
   "cell_type": "code",
   "execution_count": null,
   "metadata": {},
   "outputs": [],
   "source": [
    "'''\n",
    "A successful call to this method only initiates an asynchronous export. \n",
    "The exported JSON data is not available until processing completes.\n",
    "\n",
    "After the initial request is submitted, you can poll the status of the operation by calling the same request again and \n",
    "checking the value of the status property. If an error occurs (indicated by a status value of Failed), \n",
    "the status_description property provides more information about the error, and the status_errors property \n",
    "contains an array of error messages that caused the failure.\n",
    "\n",
    "When processing has completed, the request returns the exported JSON data. Remember that the usual rate limits apply.\n",
    "'''\n",
    "\n",
    "skills_from = assistant.export_skills(assistant_id=ASSISTANT_FROM_ID)"
   ]
  },
  {
   "cell_type": "code",
   "execution_count": null,
   "metadata": {},
   "outputs": [],
   "source": [
    "# here you get the json data \n",
    "assistand_from_data = skills_from.result\n",
    "assistand_from_data"
   ]
  },
  {
   "cell_type": "code",
   "execution_count": null,
   "metadata": {},
   "outputs": [],
   "source": [
    "assistand_from_data.keys()"
   ]
  },
  {
   "cell_type": "code",
   "execution_count": null,
   "metadata": {},
   "outputs": [],
   "source": [
    "assistand_from_data.get('assistant_skills')[1].get('workspace').get('actions')[1].get('steps')[0]"
   ]
  },
  {
   "cell_type": "markdown",
   "metadata": {},
   "source": [
    "# Transform the assistant_skills data into text "
   ]
  },
  {
   "cell_type": "code",
   "execution_count": null,
   "metadata": {},
   "outputs": [],
   "source": [
    "assistant_from_skills_txt = str(assistand_from_data['assistant_skills'])"
   ]
  },
  {
   "cell_type": "code",
   "execution_count": null,
   "metadata": {},
   "outputs": [],
   "source": [
    "\n",
    "file_name = BACKUP_FOLDER+'/'+ASSISTANT_FROM+'_DOWNLOAD_'+date_name+'.txt'\n",
    "print(file_name)\n",
    "\n",
    "with open(file=file_name, mode='w') as f:\n",
    "    f.write(assistant_from_skills_txt)\n",
    "    f.close()"
   ]
  },
  {
   "cell_type": "markdown",
   "metadata": {},
   "source": [
    "# Process to replace strings in assistant \n",
    "\n",
    "With the data in string format you can now use the replace method to replace the catalog and hash ids "
   ]
  },
  {
   "cell_type": "code",
   "execution_count": null,
   "metadata": {},
   "outputs": [],
   "source": [
    "for i in MODIFY:\n",
    "    assistant_from_skills_txt = assistant_from_skills_txt.replace(i['id_from'], i['id_to'])"
   ]
  },
  {
   "cell_type": "markdown",
   "metadata": {},
   "source": [
    "# After replacement \n",
    "\n",
    "Once the ids are replaced , now we can transform the text again to a list using eval function. "
   ]
  },
  {
   "cell_type": "code",
   "execution_count": null,
   "metadata": {},
   "outputs": [],
   "source": [
    "# saving the file as upload \n",
    "upload_name = BACKUP_FOLDER+'/'+ASSISTANT_FROM+'_UPLOAD_'+date_name+'.txt'\n",
    "print(upload_name)\n",
    "\n",
    "with open(file=upload_name, mode='w') as f:\n",
    "    f.write(assistant_from_skills_txt)\n",
    "    f.close()"
   ]
  },
  {
   "cell_type": "code",
   "execution_count": null,
   "metadata": {},
   "outputs": [],
   "source": [
    "# then we can go back to list here.\n",
    "assistant_from_skills_list = eval(assistant_from_skills_txt)"
   ]
  },
  {
   "cell_type": "markdown",
   "metadata": {},
   "source": [
    "# Upload updated skills \n",
    "\n",
    "Now we can upload the skills data again in the server "
   ]
  },
  {
   "cell_type": "code",
   "execution_count": null,
   "metadata": {},
   "outputs": [],
   "source": [
    "import_skills = assistant.import_skills(assistant_id=ASSISTANT_TO_ID, \n",
    "                                        include_audit=True, \n",
    "                                        assistant_skills=assistant_from_skills_list, \n",
    "                                        assistant_state = assistand_from_data['assistant_state'])"
   ]
  },
  {
   "cell_type": "markdown",
   "metadata": {},
   "source": [
    "# Check the import state "
   ]
  },
  {
   "cell_type": "code",
   "execution_count": null,
   "metadata": {},
   "outputs": [],
   "source": [
    "assistant.import_skills_status(assistant_id=ASSISTANT_TO_ID).get_result()"
   ]
  },
  {
   "cell_type": "code",
   "execution_count": null,
   "metadata": {},
   "outputs": [],
   "source": []
  }
 ],
 "metadata": {
  "kernelspec": {
   "display_name": "p311_flask",
   "language": "python",
   "name": "python3"
  },
  "language_info": {
   "codemirror_mode": {
    "name": "ipython",
    "version": 3
   },
   "file_extension": ".py",
   "mimetype": "text/x-python",
   "name": "python",
   "nbconvert_exporter": "python",
   "pygments_lexer": "ipython3",
   "version": "3.1.0"
  }
 },
 "nbformat": 4,
 "nbformat_minor": 2
}
