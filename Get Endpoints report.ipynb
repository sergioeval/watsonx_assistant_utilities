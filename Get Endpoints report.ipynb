{
 "cells": [
  {
   "cell_type": "markdown",
   "metadata": {},
   "source": [
    "# Description\n",
    "\n",
    "The main goal of this notebook is to help in this cases:\n",
    "- You need to update the OpenApi file of a Custom Extension.\n",
    "- You need to create a complete copy of one of your assistants into another assistant. \n",
    "\n",
    "The notebook will also create backups of the original assistant in txt and the final txt that will be uploaded. \n"
   ]
  },
  {
   "cell_type": "markdown",
   "metadata": {},
   "source": [
    "!pip install --upgrade \"ibm-watson>=7.0.1\""
   ]
  },
  {
   "cell_type": "markdown",
   "metadata": {},
   "source": [
    "# Description\n",
    "\n",
    "The goal of these notebook is to sucessfully download the actions and upload them witht he new Custom\n",
    "extension ids in case we modified them for some reason. \n",
    "\n"
   ]
  },
  {
   "cell_type": "code",
   "execution_count": 2,
   "metadata": {},
   "outputs": [],
   "source": [
    "import pprint\n",
    "from dotenv import load_dotenv\n",
    "import os\n",
    "import time\n",
    "load_dotenv()\n",
    "import pandas as pd"
   ]
  },
  {
   "cell_type": "markdown",
   "metadata": {},
   "source": [
    "# Assistant setup "
   ]
  },
  {
   "cell_type": "code",
   "execution_count": 3,
   "metadata": {},
   "outputs": [],
   "source": [
    "URL = 'https://api.us-east.assistant.watson.cloud.ibm.com/'\n",
    "\n",
    "# this is the IBM cloud IAM apy key. \n",
    "API_KEY = os.getenv(key='API_KEY')\n",
    "\n",
    "# put here the name of the assistant to replace extensions ids \n",
    "#ASSISTANT_NAME = 'Experiments_Ask_Proc_Main'\n",
    "\n",
    "CHANGE_LOG_DESCRIPTION = '''\n",
    "----- Change Description -----\n",
    "\n",
    "Assistant: DEV_TEST_AskProc\n",
    "Report of used endpoints\n",
    "\n",
    "'''\n",
    "\n",
    "# available assistants \n",
    "'''\n",
    "DEV_TEST_AskProc\n",
    "PREPROD_PROD_AskProc\n",
    "'''\n",
    "\n",
    "# in case you are just updating the OpenApi file you have to use the same assistant name here in the two variables. \n",
    "ASSISTANT_FROM = 'DEV_TEST_AskProc'\n",
    "ASSISTANT_TO = 'PREPROD_PROD_AskProc'\n",
    "\n",
    "BACKUP_FOLDER = 'EndpointReports/'\n",
    "\n",
    "ONLY_EPM_API_CHANGE = True\n",
    "\n",
    "\n",
    "\n",
    "# You can get this ids by instecting the browser and going to the Network tab. This is done when you click on one of the Integrations \n",
    "# so you can see the Catalog id and hash id of the extension. \n",
    "MODIFY = [\n",
    "    {\n",
    "        'id_from': \"8acb5354-2e54-401a-805a-1e9927167311\", #  epm ask_proc_main\n",
    "        'id_to': \"3651556e-0b5a-4ef3-9a73-52304368dff4\" # epm_api_v21 ask_proc_main\n",
    "        },\n",
    "        {\n",
    "        'id_from': \"0710d532e446af11a39ab1c8d3d4b5281b94cfd91550eb8f2cf6d9ff669b3290\", #   epm ask_proc_main\n",
    "        'id_to': \"b9a5e2cf711d38ba9985557b7da7f7aa934b1c3a372461453e26f31e062ff682\" # epm_api_v21 ask_proc_main\n",
    "        }\n",
    "]"
   ]
  },
  {
   "cell_type": "code",
   "execution_count": 4,
   "metadata": {},
   "outputs": [],
   "source": [
    "# Auhentification \n",
    "import json\n",
    "from ibm_watson import AssistantV2\n",
    "from ibm_cloud_sdk_core.authenticators import IAMAuthenticator\n",
    "\n",
    "authenticator = IAMAuthenticator(API_KEY)\n",
    "assistant = AssistantV2(\n",
    "    version='2021-06-14',\n",
    "    authenticator = authenticator\n",
    ")\n",
    "\n",
    "assistant.set_service_url(URL)\n",
    "\n"
   ]
  },
  {
   "cell_type": "markdown",
   "metadata": {},
   "source": [
    "# Create folder for Report"
   ]
  },
  {
   "cell_type": "code",
   "execution_count": 5,
   "metadata": {},
   "outputs": [
    {
     "data": {
      "text/plain": [
       "'2024-03-19_10_27_57'"
      ]
     },
     "execution_count": 5,
     "metadata": {},
     "output_type": "execute_result"
    }
   ],
   "source": [
    "# get current datetime in string\n",
    "import datetime as dt\n",
    "date_name = dt.datetime.now().strftime(\"%Y-%m-%d_%H_%M_%S\")\n",
    "folder_name = date_name\n",
    "BACKUP_FOLDER = BACKUP_FOLDER+folder_name\n",
    "date_name"
   ]
  },
  {
   "cell_type": "code",
   "execution_count": 6,
   "metadata": {},
   "outputs": [],
   "source": [
    "os.makedirs(BACKUP_FOLDER)"
   ]
  },
  {
   "cell_type": "code",
   "execution_count": 7,
   "metadata": {},
   "outputs": [
    {
     "data": {
      "text/plain": [
       "'EndpointReports/2024-03-19_10_27_57'"
      ]
     },
     "execution_count": 7,
     "metadata": {},
     "output_type": "execute_result"
    }
   ],
   "source": [
    "BACKUP_FOLDER"
   ]
  },
  {
   "cell_type": "code",
   "execution_count": 8,
   "metadata": {},
   "outputs": [],
   "source": [
    "logs_path = BACKUP_FOLDER+'/CHANGE_LOG_DESCRIPTION.txt'\n",
    "with open(logs_path, mode='w') as f:\n",
    "    f.write(CHANGE_LOG_DESCRIPTION)\n",
    "    f.close()"
   ]
  },
  {
   "cell_type": "markdown",
   "metadata": {},
   "source": [
    "# Changes setup \n",
    "In our case we only have 2 custom expensions and only one is the most commun to have changes so that is why I have to flows \n",
    "One when I only want to change the ids for EPM api And other when I want to change epm and watsonx.ai ids \n"
   ]
  },
  {
   "cell_type": "markdown",
   "metadata": {},
   "source": [
    "# Getting the assistant ID using the assistant name"
   ]
  },
  {
   "cell_type": "code",
   "execution_count": 9,
   "metadata": {},
   "outputs": [],
   "source": [
    "assistant_list = assistant.list_assistants()"
   ]
  },
  {
   "cell_type": "code",
   "execution_count": 10,
   "metadata": {},
   "outputs": [
    {
     "name": "stdout",
     "output_type": "stream",
     "text": [
      "{'assistant_environments': [{'environment': 'live',\n",
      "                             'environment_id': '3d6221bd-3902-437b-b8fe-61659530d549',\n",
      "                             'name': 'live'},\n",
      "                            {'environment': 'draft',\n",
      "                             'environment_id': '8b2d321a-d698-42d5-a8a6-afadb7630aac',\n",
      "                             'name': 'draft'}],\n",
      " 'assistant_id': 'bf5deaec-5f82-47a7-8d75-6b843b3190af',\n",
      " 'assistant_skills': [{'skill_id': '9a0cd298-cf7c-4bc1-b7a2-3669759ee53e',\n",
      "                       'type': 'dialog'},\n",
      "                      {'skill_id': '8ed9e13a-7bc1-4ae0-babd-06080309ad90',\n",
      "                       'type': 'action'}],\n",
      " 'description': '',\n",
      " 'language': 'en',\n",
      " 'multi_lingual': {'enabled': False},\n",
      " 'name': 'DEV_TEST_AskProc'}\n",
      "\n",
      "\n",
      "Your assistant FROM id is: bf5deaec-5f82-47a7-8d75-6b843b3190af\n"
     ]
    }
   ],
   "source": [
    "# find your assistant by name \n",
    "\n",
    "\n",
    "for bot in assistant_list.get_result().get('assistants'):\n",
    "    if bot.get('name') == ASSISTANT_FROM:\n",
    "        ASSISTANT_FROM_ID = bot.get('assistant_id')\n",
    "        pprint.pprint(bot)\n",
    "    # if bot.get('name') == ASSISTANT_TO:\n",
    "    #     ASSISTANT_TO_ID = bot.get('assistant_id')\n",
    "    #     pprint.pprint(bot)\n",
    "\n",
    "print(f'\\n\\nYour assistant FROM id is: {ASSISTANT_FROM_ID}')\n",
    "# print(f'\\n\\nYour assistant TO id is: {ASSISTANT_TO_ID}')"
   ]
  },
  {
   "cell_type": "markdown",
   "metadata": {},
   "source": [
    "# Get the skills data from your assistant."
   ]
  },
  {
   "cell_type": "code",
   "execution_count": 11,
   "metadata": {},
   "outputs": [],
   "source": [
    "'''\n",
    "A successful call to this method only initiates an asynchronous export. \n",
    "The exported JSON data is not available until processing completes.\n",
    "\n",
    "After the initial request is submitted, you can poll the status of the operation by calling the same request again and \n",
    "checking the value of the status property. If an error occurs (indicated by a status value of Failed), \n",
    "the status_description property provides more information about the error, and the status_errors property \n",
    "contains an array of error messages that caused the failure.\n",
    "\n",
    "When processing has completed, the request returns the exported JSON data. Remember that the usual rate limits apply.\n",
    "'''\n",
    "while True:\n",
    "    time.sleep(2)\n",
    "    skills_from = assistant.export_skills(assistant_id=ASSISTANT_FROM_ID)\n",
    "    assistant_from_data = skills_from.result\n",
    "    if assistant_from_data.get('status') != 'Processing':\n",
    "        break"
   ]
  },
  {
   "cell_type": "code",
   "execution_count": 12,
   "metadata": {},
   "outputs": [
    {
     "data": {
      "text/plain": [
       "dict_keys(['assistant_skills', 'assistant_state'])"
      ]
     },
     "execution_count": 12,
     "metadata": {},
     "output_type": "execute_result"
    }
   ],
   "source": [
    "# here you get the json data \n",
    "assistant_from_data.keys()"
   ]
  },
  {
   "cell_type": "code",
   "execution_count": 13,
   "metadata": {},
   "outputs": [
    {
     "data": {
      "text/plain": [
       "'Child entities'"
      ]
     },
     "execution_count": 13,
     "metadata": {},
     "output_type": "execute_result"
    }
   ],
   "source": [
    "assistant_from_data['assistant_skills'][0].get('workspace').get('actions')[0].get('title')"
   ]
  },
  {
   "cell_type": "code",
   "execution_count": 15,
   "metadata": {},
   "outputs": [],
   "source": [
    "endpoints_in_use = []\n",
    "\n",
    "for action in assistant_from_data['assistant_skills'][0].get('workspace').get('actions'):\n",
    "    action_name = action.get('title')\n",
    "\n",
    "    for step in action.get('steps'):\n",
    "        if step.get('resolver').get('type') == 'callout':\n",
    "            call_out_path = step.get('resolver').get('callout').get('path')\n",
    "            temp = {\n",
    "                'action_name': action_name,\n",
    "                'endpoint': call_out_path\n",
    "            }\n",
    "            endpoints_in_use.append(temp)\n",
    "            \n",
    "endpoints_df = pd.DataFrame(endpoints_in_use)\n",
    "endpoints_df.drop_duplicates(inplace=True)\n",
    "endpoints_df.to_excel(BACKUP_FOLDER+'/endpoints_in_use.xlsx', index=False)\n"
   ]
  }
 ],
 "metadata": {
  "kernelspec": {
   "display_name": "p311_flask",
   "language": "python",
   "name": "python3"
  },
  "language_info": {
   "codemirror_mode": {
    "name": "ipython",
    "version": 3
   },
   "file_extension": ".py",
   "mimetype": "text/x-python",
   "name": "python",
   "nbconvert_exporter": "python",
   "pygments_lexer": "ipython3",
   "version": "3.11.8"
  }
 },
 "nbformat": 4,
 "nbformat_minor": 2
}
