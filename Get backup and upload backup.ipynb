{
 "cells": [
  {
   "cell_type": "markdown",
   "metadata": {},
   "source": [
    "!pip install --upgrade \"ibm-watson>=7.0.1\""
   ]
  },
  {
   "cell_type": "markdown",
   "metadata": {},
   "source": [
    "# Description\n",
    "\n",
    "The goal of these notebook is to sucessfully download the actions and upload them witht he new Custom\n",
    "extension ids in case we modified them for some reason. \n",
    "\n"
   ]
  },
  {
   "cell_type": "code",
   "execution_count": 3,
   "metadata": {},
   "outputs": [
    {
     "data": {
      "text/plain": [
       "True"
      ]
     },
     "execution_count": 3,
     "metadata": {},
     "output_type": "execute_result"
    }
   ],
   "source": [
    "import pprint\n",
    "from dotenv import load_dotenv\n",
    "import os\n",
    "load_dotenv()"
   ]
  },
  {
   "cell_type": "markdown",
   "metadata": {},
   "source": [
    "# Assistant setup "
   ]
  },
  {
   "cell_type": "code",
   "execution_count": 4,
   "metadata": {},
   "outputs": [],
   "source": [
    "URL = 'https://api.us-east.assistant.watson.cloud.ibm.com/'\n",
    "API_KEY = os.getenv(key='API_KEY')\n",
    "\n",
    "# put here the name of the assistant to replace extensions ids \n",
    "ASSISTANT_NAME = 'Experiments_Ask_Proc_Main'"
   ]
  },
  {
   "cell_type": "code",
   "execution_count": 69,
   "metadata": {},
   "outputs": [],
   "source": [
    "# Auhentification \n",
    "import json\n",
    "from ibm_watson import AssistantV2\n",
    "from ibm_cloud_sdk_core.authenticators import IAMAuthenticator\n",
    "\n",
    "authenticator = IAMAuthenticator(API_KEY)\n",
    "assistant = AssistantV2(\n",
    "    version='2021-06-14',\n",
    "    authenticator = authenticator\n",
    ")\n",
    "\n",
    "assistant.set_service_url(URL)\n",
    "\n"
   ]
  },
  {
   "cell_type": "markdown",
   "metadata": {},
   "source": [
    "# Changes setup \n",
    "In our case we only have 2 custom expensions and only one is the most commun to have changes so that is why I have to flows \n",
    "One when I only want to change the ids for EPM api And other when I want to change epm and watsonx.ai ids \n"
   ]
  },
  {
   "cell_type": "code",
   "execution_count": 70,
   "metadata": {},
   "outputs": [],
   "source": [
    "\n",
    "# change to False if you will modify epm and watsonx apis \n",
    "ONLY_EPM_API_CHANGE = True\n",
    "\n",
    "# Old epm api ids \n",
    "old_epm_catalog_ids = [ \n",
    "    \"e4e0380c-e956-4b16-8b8d-c8b61235c8aa\"\n",
    "]\n",
    "\n",
    "old_epm_hash_ids = [\n",
    "    \"b86af2fd95b085f30eee5e7aa7767f2353c6742aa494bcce7d6d33da9eb83f05\"\n",
    "]\n",
    "\n",
    "\n",
    "new_epm_catalog_id = \"9a6ab4aa-b6dd-47f4-a8f8-00b11ab6c053\"\n",
    "new_epm_hash_id = \"1f4f904c10572aff695fc0b2c053edb0824a7b6b70d457f8ec6ac3a228607885\"\n",
    "\n",
    "\n",
    "# old watsonx.ai ids \n",
    "old_watsonx_catalog_id = [\n",
    "    \"2a9c63f0-5e9d-44a8-9c6e-92a5684030be\"\n",
    "    ]\n",
    "    \n",
    "old_watsonx_hash_id = [\n",
    "    \"cc50493e455de183d661b95360196ddb468a02051add6dcaf4a6479b34900be5\"\n",
    "]\n",
    "\n",
    "\n",
    "new_watsonx_catalog_id = \"f6357af0-db6b-402e-a61a-915577e4e351\"\n",
    "new_watsonx_hash_id = \"cc50493e455de183d661b95360196ddb468a02051add6dcaf4a6479b34900be5\"\n"
   ]
  },
  {
   "cell_type": "markdown",
   "metadata": {},
   "source": [
    "# Getting the assistant ID using the assistant name"
   ]
  },
  {
   "cell_type": "code",
   "execution_count": 71,
   "metadata": {},
   "outputs": [],
   "source": [
    "assistant_list = assistant.list_assistants()"
   ]
  },
  {
   "cell_type": "code",
   "execution_count": 72,
   "metadata": {},
   "outputs": [
    {
     "name": "stdout",
     "output_type": "stream",
     "text": [
      "{'assistant_environments': [{'environment': 'live',\n",
      "                             'environment_id': '3d6221bd-3902-437b-b8fe-61659530d549',\n",
      "                             'name': 'live'},\n",
      "                            {'environment': 'draft',\n",
      "                             'environment_id': '8b2d321a-d698-42d5-a8a6-afadb7630aac',\n",
      "                             'name': 'draft'}],\n",
      " 'assistant_id': 'bf5deaec-5f82-47a7-8d75-6b843b3190af',\n",
      " 'assistant_skills': [{'skill_id': '9a0cd298-cf7c-4bc1-b7a2-3669759ee53e',\n",
      "                       'type': 'dialog'},\n",
      "                      {'skill_id': '8ed9e13a-7bc1-4ae0-babd-06080309ad90',\n",
      "                       'type': 'action'}],\n",
      " 'description': '',\n",
      " 'language': 'en',\n",
      " 'multi_lingual': {'enabled': False},\n",
      " 'name': 'Experiments_Ask_Proc_Main'}\n",
      "\n",
      "\n",
      "Your assistant id is: bf5deaec-5f82-47a7-8d75-6b843b3190af\n"
     ]
    }
   ],
   "source": [
    "# find your assistant by name \n",
    "\n",
    "\n",
    "for bot in assistant_list.get_result().get('assistants'):\n",
    "    if bot.get('name') == ASSISTANT_NAME:\n",
    "        ASSISTANT_ID = bot.get('assistant_id')\n",
    "        pprint.pprint(bot)\n",
    "\n",
    "print(f'\\n\\nYour assistant id is: {ASSISTANT_ID}')"
   ]
  },
  {
   "cell_type": "markdown",
   "metadata": {},
   "source": [
    "# Get the skills data from your assistant."
   ]
  },
  {
   "cell_type": "code",
   "execution_count": 73,
   "metadata": {},
   "outputs": [],
   "source": [
    "'''\n",
    "A successful call to this method only initiates an asynchronous export. \n",
    "The exported JSON data is not available until processing completes.\n",
    "\n",
    "After the initial request is submitted, you can poll the status of the operation by calling the same request again and \n",
    "checking the value of the status property. If an error occurs (indicated by a status value of Failed), \n",
    "the status_description property provides more information about the error, and the status_errors property \n",
    "contains an array of error messages that caused the failure.\n",
    "\n",
    "When processing has completed, the request returns the exported JSON data. Remember that the usual rate limits apply.\n",
    "'''\n",
    "\n",
    "skills = assistant.export_skills(assistant_id=ASSISTANT_ID)"
   ]
  },
  {
   "cell_type": "code",
   "execution_count": 74,
   "metadata": {},
   "outputs": [],
   "source": [
    "# here you get the json data \n",
    "assistand_data = skills.result\n"
   ]
  },
  {
   "cell_type": "code",
   "execution_count": null,
   "metadata": {},
   "outputs": [],
   "source": [
    "assistand_data"
   ]
  },
  {
   "cell_type": "code",
   "execution_count": 75,
   "metadata": {},
   "outputs": [
    {
     "data": {
      "text/plain": [
       "dict_keys(['assistant_skills', 'assistant_state'])"
      ]
     },
     "execution_count": 75,
     "metadata": {},
     "output_type": "execute_result"
    }
   ],
   "source": [
    "assistand_data.keys()"
   ]
  },
  {
   "cell_type": "markdown",
   "metadata": {},
   "source": [
    "# Transform the assistant_skills data into text "
   ]
  },
  {
   "cell_type": "code",
   "execution_count": 77,
   "metadata": {},
   "outputs": [],
   "source": [
    "assistant_skills_txt = str(assistand_data['assistant_skills'])"
   ]
  },
  {
   "cell_type": "markdown",
   "metadata": {},
   "source": [
    "# Replace in the string\n",
    "\n",
    "With the data in string format you can now use the replace method to replace the catalog and hash ids "
   ]
  },
  {
   "cell_type": "code",
   "execution_count": 78,
   "metadata": {},
   "outputs": [],
   "source": [
    "# chnage epm api \n",
    "if ONLY_EPM_API_CHANGE == True:\n",
    "    for old_catalog_id in old_epm_catalog_ids:\n",
    "        assistant_skills_txt = assistant_skills_txt.replace(old_catalog_id, new_epm_catalog_id)\n",
    "\n",
    "    for old_hash_id in old_epm_hash_ids:\n",
    "        assistant_skills_txt = assistant_skills_txt.replace(old_hash_id, new_epm_hash_id)\n",
    "\n",
    "if ONLY_EPM_API_CHANGE == False:\n",
    "    # epm changes \n",
    "    for old_catalog_id in old_epm_catalog_ids:\n",
    "        assistant_skills_txt = assistant_skills_txt.replace(old_catalog_id, new_epm_catalog_id)\n",
    "\n",
    "    for old_hash_id in old_epm_hash_ids:\n",
    "        assistant_skills_txt = assistant_skills_txt.replace(old_hash_id, new_epm_hash_id)\n",
    "\n",
    "    # watsonx.ai changes \n",
    "    for old_catalog_id in old_watsonx_catalog_id:\n",
    "        assistant_skills_txt = assistant_skills_txt.replace(old_catalog_id, new_watsonx_catalog_id)\n",
    "\n",
    "    for old_hash_id in old_watsonx_hash_id:\n",
    "        assistant_skills_txt = assistant_skills_txt.replace(old_hash_id, new_watsonx_hash_id)\n",
    "    "
   ]
  },
  {
   "cell_type": "markdown",
   "metadata": {},
   "source": [
    "# After replacement \n",
    "\n",
    "Once the ids are replaced , now we can transform the text again to a list using eval function. "
   ]
  },
  {
   "cell_type": "code",
   "execution_count": 79,
   "metadata": {},
   "outputs": [],
   "source": [
    "# then we can go back to list here.\n",
    "assistant_skills_list = eval(assistant_skills_txt)"
   ]
  },
  {
   "cell_type": "markdown",
   "metadata": {},
   "source": [
    "# Upload updated skills \n",
    "\n",
    "Now we can upload the skills data again in the server "
   ]
  },
  {
   "cell_type": "code",
   "execution_count": 80,
   "metadata": {},
   "outputs": [],
   "source": [
    "import_skills = assistant.import_skills(assistant_id=ASSISTANT_ID, \n",
    "                                        include_audit=True, \n",
    "                                        assistant_skills=assistant_skills_list, \n",
    "                                        assistant_state = assistand_data['assistant_state'])"
   ]
  },
  {
   "cell_type": "markdown",
   "metadata": {},
   "source": [
    "# Check the inport state "
   ]
  },
  {
   "cell_type": "code",
   "execution_count": 84,
   "metadata": {},
   "outputs": [
    {
     "data": {
      "text/plain": [
       "{'status': 'Completed', 'assistant_id': 'bf5deaec-5f82-47a7-8d75-6b843b3190af'}"
      ]
     },
     "execution_count": 84,
     "metadata": {},
     "output_type": "execute_result"
    }
   ],
   "source": [
    "assistant.import_skills_status(assistant_id=ASSISTANT_ID).get_result()"
   ]
  }
 ],
 "metadata": {
  "kernelspec": {
   "display_name": "p311_flask",
   "language": "python",
   "name": "python3"
  },
  "language_info": {
   "codemirror_mode": {
    "name": "ipython",
    "version": 3
   },
   "file_extension": ".py",
   "mimetype": "text/x-python",
   "name": "python",
   "nbconvert_exporter": "python",
   "pygments_lexer": "ipython3",
   "version": "3.11.5"
  }
 },
 "nbformat": 4,
 "nbformat_minor": 2
}
